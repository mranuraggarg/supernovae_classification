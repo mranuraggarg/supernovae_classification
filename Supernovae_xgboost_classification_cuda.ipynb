{
  "nbformat": 4,
  "nbformat_minor": 0,
  "metadata": {
    "colab": {
      "provenance": [],
      "gpuType": "A100"
    },
    "kernelspec": {
      "name": "python3",
      "display_name": "Python 3"
    },
    "language_info": {
      "name": "python"
    },
    "accelerator": "GPU"
  },
  "cells": [
    {
      "cell_type": "markdown",
      "source": [
        "# Supernovae Classification with XGBoost\n",
        "\n",
        "This notebook demonstrates the use of XGBoost for classifying supernovae data. The dataset is loaded, preprocessed, and used to train an XGBoost model with hyperparameter tuning using Optuna. The model is then evaluated on test data, and the results are saved.\n",
        "\n",
        "## 1. Check GPU Availability\n",
        "\n",
        "Before starting, we check if a GPU is available using `nvidia-smi`. This is important because XGBoost can leverage GPU acceleration for faster training.\n",
        "\n",
        "```python\n",
        "!nvidia-smi"
      ],
      "metadata": {
        "id": "7LsC5-ouHpSL"
      }
    },
    {
      "cell_type": "code",
      "execution_count": 5,
      "metadata": {
        "colab": {
          "base_uri": "https://localhost:8080/"
        },
        "id": "j-ub5KRwq99f",
        "outputId": "d399c3f9-622b-4276-e08a-644782995659"
      },
      "outputs": [
        {
          "output_type": "stream",
          "name": "stdout",
          "text": [
            "Fri Mar  7 12:07:09 2025       \n",
            "+-----------------------------------------------------------------------------------------+\n",
            "| NVIDIA-SMI 550.54.15              Driver Version: 550.54.15      CUDA Version: 12.4     |\n",
            "|-----------------------------------------+------------------------+----------------------+\n",
            "| GPU  Name                 Persistence-M | Bus-Id          Disp.A | Volatile Uncorr. ECC |\n",
            "| Fan  Temp   Perf          Pwr:Usage/Cap |           Memory-Usage | GPU-Util  Compute M. |\n",
            "|                                         |                        |               MIG M. |\n",
            "|=========================================+========================+======================|\n",
            "|   0  NVIDIA A100-SXM4-40GB          Off |   00000000:00:04.0 Off |                    0 |\n",
            "| N/A   30C    P0             48W /  400W |     915MiB /  40960MiB |      0%      Default |\n",
            "|                                         |                        |             Disabled |\n",
            "+-----------------------------------------+------------------------+----------------------+\n",
            "                                                                                         \n",
            "+-----------------------------------------------------------------------------------------+\n",
            "| Processes:                                                                              |\n",
            "|  GPU   GI   CI        PID   Type   Process name                              GPU Memory |\n",
            "|        ID   ID                                                               Usage      |\n",
            "|=========================================================================================|\n",
            "+-----------------------------------------------------------------------------------------+\n"
          ]
        }
      ],
      "source": [
        "!nvidia-smi"
      ]
    },
    {
      "cell_type": "markdown",
      "source": [
        "## 2. Install Required Libraries\n",
        "\n",
        "We install the necessary Python libraries for this project, including xgboost, optuna, scikit-learn, and imbalanced-learn. These libraries are essential for model training, hyperparameter tuning, and handling imbalanced datasets."
      ],
      "metadata": {
        "id": "LK_wOcZ1HsS4"
      }
    },
    {
      "cell_type": "code",
      "source": [
        "!pip install xgboost optuna scikit-learn imbalanced-learn optuna-integration[xgboost]"
      ],
      "metadata": {
        "colab": {
          "base_uri": "https://localhost:8080/"
        },
        "id": "-uKDx-2UrTbk",
        "outputId": "343b4b92-329b-4687-dd44-4f67628e34ef"
      },
      "execution_count": 6,
      "outputs": [
        {
          "output_type": "stream",
          "name": "stdout",
          "text": [
            "Requirement already satisfied: xgboost in /usr/local/lib/python3.11/dist-packages (2.1.4)\n",
            "Requirement already satisfied: optuna in /usr/local/lib/python3.11/dist-packages (4.2.1)\n",
            "Requirement already satisfied: scikit-learn in /usr/local/lib/python3.11/dist-packages (1.6.1)\n",
            "Requirement already satisfied: imbalanced-learn in /usr/local/lib/python3.11/dist-packages (0.13.0)\n",
            "Requirement already satisfied: optuna-integration[xgboost] in /usr/local/lib/python3.11/dist-packages (4.2.1)\n",
            "Requirement already satisfied: numpy in /usr/local/lib/python3.11/dist-packages (from xgboost) (1.26.4)\n",
            "Requirement already satisfied: nvidia-nccl-cu12 in /usr/local/lib/python3.11/dist-packages (from xgboost) (2.21.5)\n",
            "Requirement already satisfied: scipy in /usr/local/lib/python3.11/dist-packages (from xgboost) (1.13.1)\n",
            "Requirement already satisfied: alembic>=1.5.0 in /usr/local/lib/python3.11/dist-packages (from optuna) (1.15.1)\n",
            "Requirement already satisfied: colorlog in /usr/local/lib/python3.11/dist-packages (from optuna) (6.9.0)\n",
            "Requirement already satisfied: packaging>=20.0 in /usr/local/lib/python3.11/dist-packages (from optuna) (24.2)\n",
            "Requirement already satisfied: sqlalchemy>=1.4.2 in /usr/local/lib/python3.11/dist-packages (from optuna) (2.0.38)\n",
            "Requirement already satisfied: tqdm in /usr/local/lib/python3.11/dist-packages (from optuna) (4.67.1)\n",
            "Requirement already satisfied: PyYAML in /usr/local/lib/python3.11/dist-packages (from optuna) (6.0.2)\n",
            "Requirement already satisfied: joblib>=1.2.0 in /usr/local/lib/python3.11/dist-packages (from scikit-learn) (1.4.2)\n",
            "Requirement already satisfied: threadpoolctl>=3.1.0 in /usr/local/lib/python3.11/dist-packages (from scikit-learn) (3.5.0)\n",
            "Requirement already satisfied: sklearn-compat<1,>=0.1 in /usr/local/lib/python3.11/dist-packages (from imbalanced-learn) (0.1.3)\n",
            "Requirement already satisfied: Mako in /usr/local/lib/python3.11/dist-packages (from alembic>=1.5.0->optuna) (1.3.9)\n",
            "Requirement already satisfied: typing-extensions>=4.12 in /usr/local/lib/python3.11/dist-packages (from alembic>=1.5.0->optuna) (4.12.2)\n",
            "Requirement already satisfied: greenlet!=0.4.17 in /usr/local/lib/python3.11/dist-packages (from sqlalchemy>=1.4.2->optuna) (3.1.1)\n",
            "Requirement already satisfied: MarkupSafe>=0.9.2 in /usr/local/lib/python3.11/dist-packages (from Mako->alembic>=1.5.0->optuna) (3.0.2)\n"
          ]
        }
      ]
    },
    {
      "cell_type": "markdown",
      "source": [
        "## 3. Mount Google Drive\n",
        "\n",
        "We mount Google Drive to access the dataset stored in the cloud. This allows us to load the dataset directly from Google Drive."
      ],
      "metadata": {
        "id": "KyB6zfBaH61l"
      }
    },
    {
      "cell_type": "code",
      "source": [
        "from google.colab import drive\n",
        "drive.mount('/content/drive')"
      ],
      "metadata": {
        "colab": {
          "base_uri": "https://localhost:8080/"
        },
        "id": "0DO2kvBUSZb4",
        "outputId": "4782c2a4-13b9-40c7-e129-4e64c3704825"
      },
      "execution_count": 7,
      "outputs": [
        {
          "output_type": "stream",
          "name": "stdout",
          "text": [
            "Drive already mounted at /content/drive; to attempt to forcibly remount, call drive.mount(\"/content/drive\", force_remount=True).\n"
          ]
        }
      ]
    },
    {
      "cell_type": "markdown",
      "source": [
        "## 4. Load the Dataset\n",
        "\n",
        "The dataset is loaded from a .npz file stored in Google Drive. The dataset contains training and testing data for supernovae classification."
      ],
      "metadata": {
        "id": "L-8ND34WH-aA"
      }
    },
    {
      "cell_type": "code",
      "source": [
        "import numpy as np\n",
        "\n",
        "# Define the path where you uploaded the file\n",
        "data_path = \"/content/drive/MyDrive/data/supernovae_dataset.npz\"  # Update this path if stored in a subfolder\n",
        "\n",
        "# Load the npz file\n",
        "data = np.load(data_path)\n",
        "\n",
        "# Extract variables\n",
        "X_train = data[\"X_train\"]\n",
        "Y_train = data[\"Y_train\"]\n",
        "X_test = data[\"X_test\"]\n",
        "Y_test = data[\"Y_test\"]\n",
        "\n",
        "# Verify the data\n",
        "print(f\"X_train shape: {X_train.shape}\")\n",
        "print(f\"Y_train shape: {Y_train.shape}\")\n",
        "print(f\"X_test shape: {X_test.shape}\")\n",
        "print(f\"Y_test shape: {Y_test.shape}\")"
      ],
      "metadata": {
        "colab": {
          "base_uri": "https://localhost:8080/"
        },
        "id": "2NhfUrDIrtms",
        "outputId": "41aa8954-6a22-4d6a-de33-41f0b2fc29c6"
      },
      "execution_count": 8,
      "outputs": [
        {
          "output_type": "stream",
          "name": "stdout",
          "text": [
            "X_train shape: (17055, 63, 12)\n",
            "Y_train shape: (17055, 2)\n",
            "X_test shape: (4263, 63, 12)\n",
            "Y_test shape: (4263, 2)\n"
          ]
        }
      ]
    },
    {
      "cell_type": "markdown",
      "source": [
        "## 5. XGBoost Classification without SMOTE\n",
        "\n",
        "In this section, we define a function to train an XGBoost model without using SMOTE (Synthetic Minority Over-sampling Technique). The model is trained using GPU acceleration, and hyperparameters are tuned using Optuna."
      ],
      "metadata": {
        "id": "sF1SCCbXIDmm"
      }
    },
    {
      "cell_type": "code",
      "source": [
        "import xgboost as xgb\n",
        "import numpy as np\n",
        "import optuna\n",
        "import json\n",
        "import os\n",
        "import pandas as pd\n",
        "from sklearn.metrics import precision_score, recall_score, f1_score, roc_auc_score\n",
        "from sklearn.preprocessing import StandardScaler\n",
        "from google.colab import files\n",
        "\n",
        "def xgboost_classification(X_train, Y_train, X_test, Y_test, optim_trials=50):\n",
        "    \"\"\"\n",
        "    Train an XGBoost classification model using GPU (CUDA) and Optuna for hyperparameter tuning.\n",
        "\n",
        "    Metrics Used:\n",
        "    - Precision\n",
        "    - Recall\n",
        "    - F1-Score\n",
        "    - ROC-AUC\n",
        "    \"\"\"\n",
        "\n",
        "    # ✅ Create model-specific folder for saving models & logs\n",
        "    model_name = \"xgboost\"\n",
        "    save_dir = f\"/content/drive/MyDrive/data/models/{model_name}\"\n",
        "    os.makedirs(save_dir, exist_ok=True)\n",
        "\n",
        "    # ✅ Scale Features (XGBoost requires scaled data)\n",
        "    scaler = StandardScaler()\n",
        "    X_train_scaled = scaler.fit_transform(X_train.reshape(X_train.shape[0], -1))\n",
        "    X_test_scaled = scaler.transform(X_test.reshape(X_test.shape[0], -1))\n",
        "\n",
        "    # ✅ Convert labels to 1D format (XGBoost requires 1D labels)\n",
        "    Y_train_flat = np.argmax(Y_train, axis=1)\n",
        "    Y_test_flat = np.argmax(Y_test, axis=1)\n",
        "\n",
        "    # ✅ Define Optuna Objective Function\n",
        "    def objective(trial):\n",
        "        params = {\n",
        "            \"n_estimators\": trial.suggest_int(\"n_estimators\", 100, 1000, step=100),\n",
        "            \"max_depth\": trial.suggest_int(\"max_depth\", 3, 15),\n",
        "            \"learning_rate\": trial.suggest_float(\"learning_rate\", 0.001, 0.3, log=True),\n",
        "            \"subsample\": trial.suggest_float(\"subsample\", 0.5, 1.0),\n",
        "            \"colsample_bytree\": trial.suggest_float(\"colsample_bytree\", 0.5, 1.0),\n",
        "            \"reg_lambda\": trial.suggest_float(\"reg_lambda\", 1e-3, 10.0, log=True),\n",
        "            \"reg_alpha\": trial.suggest_float(\"reg_alpha\", 1e-3, 10.0, log=True),\n",
        "            \"gamma\": trial.suggest_float(\"gamma\", 1e-3, 10.0, log=True),\n",
        "            \"tree_method\": \"gpu_hist\",  # ✅ Use GPU\n",
        "            \"random_state\": 42,\n",
        "            \"verbosity\": 0,\n",
        "            \"eval_metric\": \"logloss\"  # ✅ Fix: Set eval_metric here, not in fit()\n",
        "        }\n",
        "\n",
        "        # ✅ Train XGBoost Model with Updated Fit\n",
        "        model = xgb.XGBClassifier(**params)\n",
        "        model.fit(\n",
        "            X_train_scaled,\n",
        "            Y_train_flat,\n",
        "            eval_set=[(X_test_scaled, Y_test_flat)],\n",
        "            verbose=False  # ✅ Fix: Removed early_stopping_rounds\n",
        "        )\n",
        "\n",
        "        # ✅ Predictions\n",
        "        Y_pred = model.predict(X_test_scaled)\n",
        "        Y_probs = model.predict_proba(X_test_scaled)[:, 1]\n",
        "\n",
        "        # ✅ Compute Metrics\n",
        "        precision = precision_score(Y_test_flat, Y_pred, average=\"weighted\")\n",
        "        recall = recall_score(Y_test_flat, Y_pred, average=\"weighted\")\n",
        "        f1 = f1_score(Y_test_flat, Y_pred, average=\"weighted\")\n",
        "        roc_auc = roc_auc_score(Y_test_flat, Y_probs)\n",
        "\n",
        "        return f1  # ✅ Optuna optimizes for F1-Score\n",
        "\n",
        "    # ✅ Run Optuna Optimization\n",
        "    study = optuna.create_study(direction=\"maximize\")\n",
        "    study.optimize(objective, n_trials=optim_trials)\n",
        "\n",
        "    # ✅ Get Best Hyperparameters\n",
        "    best_params = study.best_params\n",
        "    print(f\"🔥 Best Hyperparameters: {best_params}\")\n",
        "\n",
        "    # ✅ Train Final XGBoost Model with Best Hyperparameters\n",
        "    best_model = xgb.XGBClassifier(**best_params, tree_method=\"gpu_hist\", eval_metric=\"logloss\")\n",
        "    best_model.fit(X_train_scaled, Y_train_flat)\n",
        "\n",
        "    # ✅ Save Final Model\n",
        "    model_path = os.path.join(save_dir, \"xgboost_best_model_no_SMOTE.json\")\n",
        "    best_model.save_model(model_path)\n",
        "    print(f\"✅ Model saved at: {model_path}\")\n",
        "\n",
        "    # ✅ Predictions with Best Model\n",
        "    Y_pred_final = best_model.predict(X_test_scaled)\n",
        "    Y_probs_final = best_model.predict_proba(X_test_scaled)[:, 1]\n",
        "\n",
        "    # ✅ Compute Final Metrics\n",
        "    precision_final = precision_score(Y_test_flat, Y_pred_final, average=\"weighted\")\n",
        "    recall_final = recall_score(Y_test_flat, Y_pred_final, average=\"weighted\")\n",
        "    f1_final = f1_score(Y_test_flat, Y_pred_final, average=\"weighted\")\n",
        "    roc_auc_final = roc_auc_score(Y_test_flat, Y_probs_final)\n",
        "\n",
        "    # ✅ Print Final Performance Table\n",
        "    df_results = pd.DataFrame({\n",
        "        \"Metric\": [\"Precision\", \"Recall\", \"F1-Score\", \"ROC-AUC\"],\n",
        "        \"XGBoost Result\": [precision_final, recall_final, f1_final, roc_auc_final]\n",
        "    })\n",
        "\n",
        "    print(\"\\n📊 **XGBoost Model Performance**\")\n",
        "    print(df_results.to_markdown())  # ✅ Print table in readable format\n",
        "\n",
        "    # Define save directory\n",
        "    save_dir = \"xgboost_model\"\n",
        "    os.makedirs(save_dir, exist_ok=True)\n",
        "\n",
        "    # Save XGBoost model\n",
        "    model_path = os.path.join(save_dir, \"xgboost_model_no_SMOTE.json\")\n",
        "    best_model.save_model(model_path)\n",
        "    print(f\"✅ XGBoost Model Saved: {model_path}\")\n",
        "\n",
        "    # Download model file\n",
        "    files.download(model_path)\n",
        "\n",
        "    # Define results save path\n",
        "    results_path = os.path.join(save_dir, \"xgboost_results_no_SMOTE.json\")\n",
        "\n",
        "    # Save the results dictionary\n",
        "    with open(results_path, \"w\") as f:\n",
        "        json.dump(xgboost_results, f, indent=4)\n",
        "\n",
        "    print(f\"✅ XGBoost Results Saved: {results_path}\")\n",
        "\n",
        "    # Download the results file\n",
        "    files.download(results_path)\n",
        "\n",
        "    return {\n",
        "        \"model\": model_name,\n",
        "        \"precision\": precision_final,\n",
        "        \"recall\": recall_final,\n",
        "        \"f1_score\": f1_final,\n",
        "        \"roc_auc\": roc_auc_final,\n",
        "        \"best_params\": best_params\n",
        "    }"
      ],
      "metadata": {
        "id": "g-ilSyMKtG8r"
      },
      "execution_count": null,
      "outputs": []
    },
    {
      "cell_type": "code",
      "source": [
        "xgboost_results = xgboost_classification(X_train, Y_train, X_test, Y_test)"
      ],
      "metadata": {
        "colab": {
          "base_uri": "https://localhost:8080/",
          "height": 1000
        },
        "id": "YJtc0XwmuEe4",
        "outputId": "ea1996cd-713d-43d6-ab12-4b6010ff8084"
      },
      "execution_count": null,
      "outputs": [
        {
          "output_type": "stream",
          "name": "stderr",
          "text": [
            "[I 2025-03-05 15:35:09,800] A new study created in memory with name: no-name-f3cdb983-43eb-423a-b398-e6577748cc6a\n",
            "[I 2025-03-05 15:35:48,321] Trial 0 finished with value: 0.7872711230500078 and parameters: {'n_estimators': 600, 'max_depth': 10, 'learning_rate': 0.00125932668807438, 'subsample': 0.6830503561562495, 'colsample_bytree': 0.9530428063121053, 'reg_lambda': 0.011895518824988517, 'reg_alpha': 0.0011050771217518652, 'gamma': 0.006920608383501509}. Best is trial 0 with value: 0.7872711230500078.\n",
            "[I 2025-03-05 15:35:55,864] Trial 1 finished with value: 0.9142980702161387 and parameters: {'n_estimators': 500, 'max_depth': 6, 'learning_rate': 0.055596282880886055, 'subsample': 0.6620796881625395, 'colsample_bytree': 0.6324954607812768, 'reg_lambda': 0.021035103943693133, 'reg_alpha': 3.7774250962397513, 'gamma': 0.044496250319308726}. Best is trial 1 with value: 0.9142980702161387.\n",
            "[I 2025-03-05 15:35:59,631] Trial 2 finished with value: 0.6985474883989646 and parameters: {'n_estimators': 300, 'max_depth': 4, 'learning_rate': 0.002623438891524844, 'subsample': 0.6730705626828075, 'colsample_bytree': 0.8204631990832961, 'reg_lambda': 0.02116253187312794, 'reg_alpha': 0.28316934125276855, 'gamma': 0.008845093702187255}. Best is trial 1 with value: 0.9142980702161387.\n",
            "[I 2025-03-05 15:36:49,385] Trial 3 finished with value: 0.799903415871968 and parameters: {'n_estimators': 400, 'max_depth': 15, 'learning_rate': 0.002117468762717697, 'subsample': 0.9613353051838477, 'colsample_bytree': 0.8976911595866479, 'reg_lambda': 1.5442683451460466, 'reg_alpha': 3.0174719927352034, 'gamma': 0.0010299560343249926}. Best is trial 1 with value: 0.9142980702161387.\n",
            "[I 2025-03-05 15:37:14,924] Trial 4 finished with value: 0.8994236486753898 and parameters: {'n_estimators': 900, 'max_depth': 8, 'learning_rate': 0.0037378334981340642, 'subsample': 0.9909789838188112, 'colsample_bytree': 0.5645637513521263, 'reg_lambda': 0.3147915879723279, 'reg_alpha': 0.9543280781592903, 'gamma': 0.0806120243163601}. Best is trial 1 with value: 0.9142980702161387.\n",
            "[I 2025-03-05 15:37:21,492] Trial 5 finished with value: 0.9128470871241624 and parameters: {'n_estimators': 400, 'max_depth': 8, 'learning_rate': 0.17768836230103283, 'subsample': 0.5806269726251014, 'colsample_bytree': 0.7670076265980449, 'reg_lambda': 0.3028436551705146, 'reg_alpha': 0.094416836102054, 'gamma': 0.16503917670192236}. Best is trial 1 with value: 0.9142980702161387.\n",
            "[I 2025-03-05 15:38:16,350] Trial 6 finished with value: 0.8791886315499488 and parameters: {'n_estimators': 800, 'max_depth': 15, 'learning_rate': 0.001988914345664733, 'subsample': 0.5168574787303023, 'colsample_bytree': 0.7186681513225812, 'reg_lambda': 0.03594671089089969, 'reg_alpha': 0.19566680503939057, 'gamma': 1.7154216849532842}. Best is trial 1 with value: 0.9142980702161387.\n",
            "[I 2025-03-05 15:38:27,984] Trial 7 finished with value: 0.8982172246395789 and parameters: {'n_estimators': 1000, 'max_depth': 15, 'learning_rate': 0.016539048138615918, 'subsample': 0.6067085639716389, 'colsample_bytree': 0.5310164610138685, 'reg_lambda': 0.11524317636744583, 'reg_alpha': 2.7251733794564146, 'gamma': 7.155981797663312}. Best is trial 1 with value: 0.9142980702161387.\n",
            "[I 2025-03-05 15:38:45,885] Trial 8 finished with value: 0.9070458465408447 and parameters: {'n_estimators': 400, 'max_depth': 9, 'learning_rate': 0.013288217867908026, 'subsample': 0.5713024610717947, 'colsample_bytree': 0.8897708801316593, 'reg_lambda': 0.024621553269703965, 'reg_alpha': 0.0978301186433323, 'gamma': 0.009125294511228588}. Best is trial 1 with value: 0.9142980702161387.\n",
            "[I 2025-03-05 15:39:20,426] Trial 9 finished with value: 0.9097506576493303 and parameters: {'n_estimators': 600, 'max_depth': 12, 'learning_rate': 0.01049396606816179, 'subsample': 0.8596762289815132, 'colsample_bytree': 0.5737396090517579, 'reg_lambda': 5.0393294350790905, 'reg_alpha': 3.645489327520301, 'gamma': 0.015787080354263867}. Best is trial 1 with value: 0.9142980702161387.\n",
            "[I 2025-03-05 15:39:23,643] Trial 10 finished with value: 0.846855570993502 and parameters: {'n_estimators': 100, 'max_depth': 3, 'learning_rate': 0.1196404836866324, 'subsample': 0.7946860147199892, 'colsample_bytree': 0.6636095691486293, 'reg_lambda': 0.001010337738280978, 'reg_alpha': 0.006028615554032809, 'gamma': 0.2843911294472954}. Best is trial 1 with value: 0.9142980702161387.\n",
            "[I 2025-03-05 15:39:27,259] Trial 11 finished with value: 0.9101907741824476 and parameters: {'n_estimators': 200, 'max_depth': 6, 'learning_rate': 0.16695000197384469, 'subsample': 0.6789858321542461, 'colsample_bytree': 0.668422738990042, 'reg_lambda': 0.4839986260417173, 'reg_alpha': 0.02878013037539181, 'gamma': 0.1469595563149437}. Best is trial 1 with value: 0.9142980702161387.\n",
            "[I 2025-03-05 15:39:34,122] Trial 12 finished with value: 0.9128775962418205 and parameters: {'n_estimators': 500, 'max_depth': 6, 'learning_rate': 0.057510001730930814, 'subsample': 0.5997219053634678, 'colsample_bytree': 0.7802004082818788, 'reg_lambda': 0.005037613497089705, 'reg_alpha': 0.02811026143937265, 'gamma': 0.8712835740410548}. Best is trial 1 with value: 0.9142980702161387.\n",
            "[I 2025-03-05 15:39:42,315] Trial 13 finished with value: 0.9175214042367418 and parameters: {'n_estimators': 700, 'max_depth': 6, 'learning_rate': 0.05156092963235622, 'subsample': 0.761682982352403, 'colsample_bytree': 0.6247991484827173, 'reg_lambda': 0.002564344924862782, 'reg_alpha': 0.009668661737981638, 'gamma': 0.9666357435147992}. Best is trial 13 with value: 0.9175214042367418.\n",
            "[I 2025-03-05 15:39:49,511] Trial 14 finished with value: 0.9057406026518952 and parameters: {'n_estimators': 700, 'max_depth': 5, 'learning_rate': 0.04194641311315025, 'subsample': 0.7965875548602208, 'colsample_bytree': 0.6281339705807878, 'reg_lambda': 0.00260465314902309, 'reg_alpha': 9.21758676343763, 'gamma': 0.040437447027206225}. Best is trial 13 with value: 0.9175214042367418.\n",
            "[I 2025-03-05 15:39:58,217] Trial 15 finished with value: 0.9181869497749702 and parameters: {'n_estimators': 700, 'max_depth': 7, 'learning_rate': 0.04604860414044013, 'subsample': 0.8971766984292088, 'colsample_bytree': 0.6173778144875317, 'reg_lambda': 0.004584009765339861, 'reg_alpha': 0.0036594420790691472, 'gamma': 0.7460647504983677}. Best is trial 15 with value: 0.9181869497749702.\n",
            "[I 2025-03-05 15:40:13,048] Trial 16 finished with value: 0.9187923572399842 and parameters: {'n_estimators': 800, 'max_depth': 11, 'learning_rate': 0.03419885591131807, 'subsample': 0.8946019281736124, 'colsample_bytree': 0.5162878980992639, 'reg_lambda': 0.001309468488121223, 'reg_alpha': 0.0021873551732873994, 'gamma': 1.5246613902500914}. Best is trial 16 with value: 0.9187923572399842.\n",
            "[I 2025-03-05 15:40:22,627] Trial 17 finished with value: 0.9004152222766558 and parameters: {'n_estimators': 900, 'max_depth': 12, 'learning_rate': 0.02856654625386718, 'subsample': 0.9023436400149489, 'colsample_bytree': 0.5055833338914039, 'reg_lambda': 0.0010649581968807593, 'reg_alpha': 0.0016314809135129177, 'gamma': 8.41613558171123}. Best is trial 16 with value: 0.9187923572399842.\n",
            "[I 2025-03-05 15:40:54,815] Trial 18 finished with value: 0.9133265451188922 and parameters: {'n_estimators': 800, 'max_depth': 11, 'learning_rate': 0.005073639005144536, 'subsample': 0.8925548545184926, 'colsample_bytree': 0.5746113352669413, 'reg_lambda': 0.006803098409871273, 'reg_alpha': 0.003669931414427452, 'gamma': 2.9153901584312005}. Best is trial 16 with value: 0.9187923572399842.\n",
            "[I 2025-03-05 15:41:08,407] Trial 19 finished with value: 0.9167331489419075 and parameters: {'n_estimators': 1000, 'max_depth': 13, 'learning_rate': 0.09373287636419766, 'subsample': 0.8421778117932144, 'colsample_bytree': 0.5030286610100008, 'reg_lambda': 0.06874914059913549, 'reg_alpha': 0.015101525407716032, 'gamma': 0.5470675008856347}. Best is trial 16 with value: 0.9187923572399842.\n",
            "[I 2025-03-05 15:41:13,044] Trial 20 finished with value: 0.9003159212256708 and parameters: {'n_estimators': 700, 'max_depth': 8, 'learning_rate': 0.2635714937172527, 'subsample': 0.9373507460781266, 'colsample_bytree': 0.7078434023567892, 'reg_lambda': 0.0033772925778169575, 'reg_alpha': 0.0027607727882164763, 'gamma': 3.171532284319445}. Best is trial 16 with value: 0.9187923572399842.\n",
            "[I 2025-03-05 15:41:23,882] Trial 21 finished with value: 0.9200676311004669 and parameters: {'n_estimators': 700, 'max_depth': 7, 'learning_rate': 0.030660138759849635, 'subsample': 0.7497113815313277, 'colsample_bytree': 0.6010659874529464, 'reg_lambda': 0.002435717680573898, 'reg_alpha': 0.008796468672069502, 'gamma': 0.7182825084104923}. Best is trial 21 with value: 0.9200676311004669.\n",
            "[I 2025-03-05 15:41:41,416] Trial 22 finished with value: 0.9228224242767726 and parameters: {'n_estimators': 800, 'max_depth': 9, 'learning_rate': 0.027388080612962197, 'subsample': 0.7261322363918981, 'colsample_bytree': 0.5868373900978476, 'reg_lambda': 0.001846937197944039, 'reg_alpha': 0.003514680689735628, 'gamma': 0.3709453174637979}. Best is trial 22 with value: 0.9228224242767726.\n",
            "[I 2025-03-05 15:42:12,800] Trial 23 finished with value: 0.9148648619740185 and parameters: {'n_estimators': 800, 'max_depth': 10, 'learning_rate': 0.007660782743349827, 'subsample': 0.7323440237197222, 'colsample_bytree': 0.5577038272708098, 'reg_lambda': 0.0014000562368435396, 'reg_alpha': 0.020481154903720666, 'gamma': 0.39536675044198094}. Best is trial 22 with value: 0.9228224242767726.\n",
            "[I 2025-03-05 15:42:27,034] Trial 24 finished with value: 0.9191953931298539 and parameters: {'n_estimators': 900, 'max_depth': 10, 'learning_rate': 0.023214276425805532, 'subsample': 0.7371818176372701, 'colsample_bytree': 0.593424626787228, 'reg_lambda': 0.009768299293797692, 'reg_alpha': 0.007410417403172125, 'gamma': 1.695820526280589}. Best is trial 22 with value: 0.9228224242767726.\n",
            "[I 2025-03-05 15:42:48,395] Trial 25 finished with value: 0.9245471348849845 and parameters: {'n_estimators': 900, 'max_depth': 9, 'learning_rate': 0.024815383740640264, 'subsample': 0.7312663060898293, 'colsample_bytree': 0.6724577268903872, 'reg_lambda': 0.00900876713512268, 'reg_alpha': 0.007511366883566965, 'gamma': 0.301537194302944}. Best is trial 25 with value: 0.9245471348849845.\n",
            "[I 2025-03-05 15:43:15,266] Trial 26 finished with value: 0.9224042252301254 and parameters: {'n_estimators': 1000, 'max_depth': 9, 'learning_rate': 0.02052135665962472, 'subsample': 0.7128994552124219, 'colsample_bytree': 0.6975896760145872, 'reg_lambda': 0.002231119257806683, 'reg_alpha': 0.042728041725538526, 'gamma': 0.2538217346379779}. Best is trial 25 with value: 0.9245471348849845.\n",
            "[I 2025-03-05 15:43:41,284] Trial 27 finished with value: 0.9219878742382686 and parameters: {'n_estimators': 1000, 'max_depth': 9, 'learning_rate': 0.019784365926607872, 'subsample': 0.6400313617368948, 'colsample_bytree': 0.6867731694272203, 'reg_lambda': 0.009609887801579916, 'reg_alpha': 0.046855857424355836, 'gamma': 0.25149006885228115}. Best is trial 25 with value: 0.9245471348849845.\n",
            "[I 2025-03-05 15:44:14,443] Trial 28 finished with value: 0.9128629471550669 and parameters: {'n_estimators': 900, 'max_depth': 9, 'learning_rate': 0.007054525145790504, 'subsample': 0.7093969997766523, 'colsample_bytree': 0.7303412690013189, 'reg_lambda': 0.0797776600953449, 'reg_alpha': 0.050032475168581815, 'gamma': 0.07668193640685243}. Best is trial 25 with value: 0.9245471348849845.\n",
            "[I 2025-03-05 15:45:29,802] Trial 29 finished with value: 0.8516690918721307 and parameters: {'n_estimators': 1000, 'max_depth': 11, 'learning_rate': 0.0010532253794260007, 'subsample': 0.8090943184746829, 'colsample_bytree': 0.8084326183449548, 'reg_lambda': 0.014530679471682838, 'reg_alpha': 0.2892474173023593, 'gamma': 0.03384893821402615}. Best is trial 25 with value: 0.9245471348849845.\n",
            "[I 2025-03-05 15:45:45,462] Trial 30 finished with value: 0.9242385265836208 and parameters: {'n_estimators': 900, 'max_depth': 9, 'learning_rate': 0.08600035239346875, 'subsample': 0.7055530873492861, 'colsample_bytree': 0.6561230974595439, 'reg_lambda': 0.006261609744100827, 'reg_alpha': 0.0014415650407196441, 'gamma': 0.0017419520705582623}. Best is trial 25 with value: 0.9245471348849845.\n",
            "[I 2025-03-05 15:46:01,588] Trial 31 finished with value: 0.9234308450685287 and parameters: {'n_estimators': 900, 'max_depth': 9, 'learning_rate': 0.07712689047611736, 'subsample': 0.7062032138860179, 'colsample_bytree': 0.6543411173578585, 'reg_lambda': 0.005412394919697933, 'reg_alpha': 0.0010167173032427142, 'gamma': 0.0018743818246491596}. Best is trial 25 with value: 0.9245471348849845.\n",
            "[I 2025-03-05 15:46:18,412] Trial 32 finished with value: 0.9167568229211962 and parameters: {'n_estimators': 900, 'max_depth': 10, 'learning_rate': 0.08847353822957894, 'subsample': 0.6421010307385011, 'colsample_bytree': 0.6625966907668092, 'reg_lambda': 0.006907731242797577, 'reg_alpha': 0.0011256554009598204, 'gamma': 0.00155444218657996}. Best is trial 25 with value: 0.9245471348849845.\n",
            "[I 2025-03-05 15:46:27,272] Trial 33 finished with value: 0.9233505151663435 and parameters: {'n_estimators': 600, 'max_depth': 7, 'learning_rate': 0.07303095700007166, 'subsample': 0.7718205240613367, 'colsample_bytree': 0.6585649794487004, 'reg_lambda': 0.038839386396165534, 'reg_alpha': 0.001151216850224201, 'gamma': 0.002112215137978149}. Best is trial 25 with value: 0.9245471348849845.\n",
            "[I 2025-03-05 15:46:37,345] Trial 34 finished with value: 0.9189587019143263 and parameters: {'n_estimators': 600, 'max_depth': 7, 'learning_rate': 0.06351352875070398, 'subsample': 0.7631865399457485, 'colsample_bytree': 0.647446204735339, 'reg_lambda': 0.03968915559180921, 'reg_alpha': 0.0015032035091199043, 'gamma': 0.0033180982733038247}. Best is trial 25 with value: 0.9245471348849845.\n",
            "[I 2025-03-05 15:46:45,204] Trial 35 finished with value: 0.9226002687809884 and parameters: {'n_estimators': 300, 'max_depth': 8, 'learning_rate': 0.07659799707729155, 'subsample': 0.6862509423151602, 'colsample_bytree': 0.7379247285156676, 'reg_lambda': 0.014707974923411778, 'reg_alpha': 0.0010423427366330466, 'gamma': 0.003267019429521188}. Best is trial 25 with value: 0.9245471348849845.\n",
            "[I 2025-03-05 15:46:50,663] Trial 36 finished with value: 0.9171693715487043 and parameters: {'n_estimators': 600, 'max_depth': 5, 'learning_rate': 0.13409925240016105, 'subsample': 0.7728956210563227, 'colsample_bytree': 0.6828352849292612, 'reg_lambda': 0.03797961776241393, 'reg_alpha': 0.00515660856142414, 'gamma': 0.0026045821052366413}. Best is trial 25 with value: 0.9245471348849845.\n",
            "[I 2025-03-05 15:47:01,619] Trial 37 finished with value: 0.907717333003725 and parameters: {'n_estimators': 900, 'max_depth': 8, 'learning_rate': 0.2876192185389152, 'subsample': 0.6497028779788325, 'colsample_bytree': 0.7561816493993477, 'reg_lambda': 0.12857645260198605, 'reg_alpha': 0.0019872816605741666, 'gamma': 0.0010480363679357815}. Best is trial 25 with value: 0.9245471348849845.\n",
            "[I 2025-03-05 15:47:08,951] Trial 38 finished with value: 0.918911423167588 and parameters: {'n_estimators': 500, 'max_depth': 7, 'learning_rate': 0.19657322951993325, 'subsample': 0.8261947063490236, 'colsample_bytree': 0.6423468896379843, 'reg_lambda': 0.022505962875443535, 'reg_alpha': 0.0010963681363407517, 'gamma': 0.006595393540403612}. Best is trial 25 with value: 0.9245471348849845.\n",
            "[I 2025-03-05 15:47:27,542] Trial 39 finished with value: 0.9193140539410344 and parameters: {'n_estimators': 900, 'max_depth': 10, 'learning_rate': 0.11379760343348046, 'subsample': 0.6945680788995309, 'colsample_bytree': 0.9708359580552304, 'reg_lambda': 0.1792757645624921, 'reg_alpha': 0.00231178907651202, 'gamma': 0.001875011302367155}. Best is trial 25 with value: 0.9245471348849845.\n",
            "[I 2025-03-05 15:47:42,761] Trial 40 finished with value: 0.9206840489860211 and parameters: {'n_estimators': 800, 'max_depth': 8, 'learning_rate': 0.06603550903865778, 'subsample': 0.6633431828551416, 'colsample_bytree': 0.8583047330560674, 'reg_lambda': 0.01701497854821346, 'reg_alpha': 0.01232785882236963, 'gamma': 0.005706074905161369}. Best is trial 25 with value: 0.9245471348849845.\n",
            "[I 2025-03-05 15:48:01,462] Trial 41 finished with value: 0.9229892326567768 and parameters: {'n_estimators': 800, 'max_depth': 9, 'learning_rate': 0.0385477875522276, 'subsample': 0.7206364568204331, 'colsample_bytree': 0.6017681934019172, 'reg_lambda': 0.004666926296632433, 'reg_alpha': 0.0038605245282683056, 'gamma': 0.017925391128577235}. Best is trial 25 with value: 0.9245471348849845.\n",
            "[I 2025-03-05 15:48:27,426] Trial 42 finished with value: 0.9195653554214716 and parameters: {'n_estimators': 900, 'max_depth': 9, 'learning_rate': 0.015390012619290867, 'subsample': 0.7788644886255939, 'colsample_bytree': 0.551321170984464, 'reg_lambda': 0.006276016768792438, 'reg_alpha': 0.004594758640717177, 'gamma': 0.024237683119873524}. Best is trial 25 with value: 0.9245471348849845.\n",
            "[I 2025-03-05 15:48:51,305] Trial 43 finished with value: 0.9251825947881862 and parameters: {'n_estimators': 800, 'max_depth': 10, 'learning_rate': 0.036481263914630316, 'subsample': 0.6951007098038263, 'colsample_bytree': 0.6043695627288685, 'reg_lambda': 0.0038571062416403686, 'reg_alpha': 0.0017080804477671331, 'gamma': 0.013453751364636493}. Best is trial 43 with value: 0.9251825947881862.\n",
            "[I 2025-03-05 15:49:14,034] Trial 44 finished with value: 0.9195064747886386 and parameters: {'n_estimators': 1000, 'max_depth': 12, 'learning_rate': 0.0909204670603594, 'subsample': 0.6190852867802482, 'colsample_bytree': 0.6499603087733082, 'reg_lambda': 0.008427042658938233, 'reg_alpha': 0.0017735784062588144, 'gamma': 0.011170750970970793}. Best is trial 43 with value: 0.9251825947881862.\n",
            "[I 2025-03-05 15:49:24,231] Trial 45 finished with value: 0.918043195750906 and parameters: {'n_estimators': 400, 'max_depth': 10, 'learning_rate': 0.13983837921084943, 'subsample': 0.6954403065437055, 'colsample_bytree': 0.7195161446170371, 'reg_lambda': 0.05056457573696814, 'reg_alpha': 0.0013976595958481947, 'gamma': 0.005001190288588277}. Best is trial 43 with value: 0.9251825947881862.\n",
            "[I 2025-03-05 15:49:55,831] Trial 46 finished with value: 0.9144475148144712 and parameters: {'n_estimators': 600, 'max_depth': 11, 'learning_rate': 0.012205733722812834, 'subsample': 0.5717577173056493, 'colsample_bytree': 0.6790659227849459, 'reg_lambda': 0.8583286328855193, 'reg_alpha': 0.002586121209482041, 'gamma': 0.001851445394364336}. Best is trial 43 with value: 0.9251825947881862.\n",
            "[I 2025-03-05 15:50:18,780] Trial 47 finished with value: 0.9242113315024849 and parameters: {'n_estimators': 700, 'max_depth': 13, 'learning_rate': 0.04845395071730904, 'subsample': 0.6732005870896428, 'colsample_bytree': 0.614440416449807, 'reg_lambda': 0.027539078545719138, 'reg_alpha': 0.001033565556946706, 'gamma': 0.0010500084757469467}. Best is trial 43 with value: 0.9251825947881862.\n",
            "[I 2025-03-05 15:50:40,825] Trial 48 finished with value: 0.9229054666826988 and parameters: {'n_estimators': 700, 'max_depth': 13, 'learning_rate': 0.04970620765829751, 'subsample': 0.6214807800327022, 'colsample_bytree': 0.5356203086551324, 'reg_lambda': 0.003880433556206004, 'reg_alpha': 0.006360724696714569, 'gamma': 0.0010495197223533987}. Best is trial 43 with value: 0.9251825947881862.\n",
            "[I 2025-03-05 15:51:06,534] Trial 49 finished with value: 0.9233219064916479 and parameters: {'n_estimators': 800, 'max_depth': 14, 'learning_rate': 0.04198426611668039, 'subsample': 0.6684821350956883, 'colsample_bytree': 0.6155886055698195, 'reg_lambda': 0.01235349825415398, 'reg_alpha': 0.002887876491298535, 'gamma': 0.0037080415129886668}. Best is trial 43 with value: 0.9251825947881862.\n"
          ]
        },
        {
          "output_type": "stream",
          "name": "stdout",
          "text": [
            "🔥 Best Hyperparameters: {'n_estimators': 800, 'max_depth': 10, 'learning_rate': 0.036481263914630316, 'subsample': 0.6951007098038263, 'colsample_bytree': 0.6043695627288685, 'reg_lambda': 0.0038571062416403686, 'reg_alpha': 0.0017080804477671331, 'gamma': 0.013453751364636493}\n"
          ]
        },
        {
          "output_type": "stream",
          "name": "stderr",
          "text": [
            "/usr/local/lib/python3.11/dist-packages/xgboost/core.py:158: UserWarning: [15:51:07] WARNING: /workspace/src/common/error_msg.cc:27: The tree method `gpu_hist` is deprecated since 2.0.0. To use GPU training, set the `device` parameter to CUDA instead.\n",
            "\n",
            "    E.g. tree_method = \"hist\", device = \"cuda\"\n",
            "\n",
            "  warnings.warn(smsg, UserWarning)\n",
            "/usr/local/lib/python3.11/dist-packages/xgboost/core.py:158: UserWarning: [15:51:28] WARNING: /workspace/src/common/error_msg.cc:27: The tree method `gpu_hist` is deprecated since 2.0.0. To use GPU training, set the `device` parameter to CUDA instead.\n",
            "\n",
            "    E.g. tree_method = \"hist\", device = \"cuda\"\n",
            "\n",
            "  warnings.warn(smsg, UserWarning)\n"
          ]
        },
        {
          "output_type": "stream",
          "name": "stdout",
          "text": [
            "✅ Model saved at: models/xgboost/xgboost_best_model.json\n",
            "\n",
            "📊 **XGBoost Model Performance**\n",
            "|    | Metric    |   XGBoost Result |\n",
            "|---:|:----------|-----------------:|\n",
            "|  0 | Precision |         0.922285 |\n",
            "|  1 | Recall    |         0.923293 |\n",
            "|  2 | F1-Score  |         0.922627 |\n",
            "|  3 | ROC-AUC   |         0.974566 |\n",
            "✅ XGBoost Model Saved: xgboost_model/xgboost_model.json\n"
          ]
        },
        {
          "output_type": "display_data",
          "data": {
            "text/plain": [
              "<IPython.core.display.Javascript object>"
            ],
            "application/javascript": [
              "\n",
              "    async function download(id, filename, size) {\n",
              "      if (!google.colab.kernel.accessAllowed) {\n",
              "        return;\n",
              "      }\n",
              "      const div = document.createElement('div');\n",
              "      const label = document.createElement('label');\n",
              "      label.textContent = `Downloading \"${filename}\": `;\n",
              "      div.appendChild(label);\n",
              "      const progress = document.createElement('progress');\n",
              "      progress.max = size;\n",
              "      div.appendChild(progress);\n",
              "      document.body.appendChild(div);\n",
              "\n",
              "      const buffers = [];\n",
              "      let downloaded = 0;\n",
              "\n",
              "      const channel = await google.colab.kernel.comms.open(id);\n",
              "      // Send a message to notify the kernel that we're ready.\n",
              "      channel.send({})\n",
              "\n",
              "      for await (const message of channel.messages) {\n",
              "        // Send a message to notify the kernel that we're ready.\n",
              "        channel.send({})\n",
              "        if (message.buffers) {\n",
              "          for (const buffer of message.buffers) {\n",
              "            buffers.push(buffer);\n",
              "            downloaded += buffer.byteLength;\n",
              "            progress.value = downloaded;\n",
              "          }\n",
              "        }\n",
              "      }\n",
              "      const blob = new Blob(buffers, {type: 'application/binary'});\n",
              "      const a = document.createElement('a');\n",
              "      a.href = window.URL.createObjectURL(blob);\n",
              "      a.download = filename;\n",
              "      div.appendChild(a);\n",
              "      a.click();\n",
              "      div.remove();\n",
              "    }\n",
              "  "
            ]
          },
          "metadata": {}
        },
        {
          "output_type": "display_data",
          "data": {
            "text/plain": [
              "<IPython.core.display.Javascript object>"
            ],
            "application/javascript": [
              "download(\"download_84b3ebbf-0f9b-414e-9dda-732e06b42188\", \"xgboost_model.json\", 9439861)"
            ]
          },
          "metadata": {}
        },
        {
          "output_type": "stream",
          "name": "stdout",
          "text": [
            "✅ XGBoost Results Saved: xgboost_model/xgboost_results.json\n"
          ]
        },
        {
          "output_type": "display_data",
          "data": {
            "text/plain": [
              "<IPython.core.display.Javascript object>"
            ],
            "application/javascript": [
              "\n",
              "    async function download(id, filename, size) {\n",
              "      if (!google.colab.kernel.accessAllowed) {\n",
              "        return;\n",
              "      }\n",
              "      const div = document.createElement('div');\n",
              "      const label = document.createElement('label');\n",
              "      label.textContent = `Downloading \"${filename}\": `;\n",
              "      div.appendChild(label);\n",
              "      const progress = document.createElement('progress');\n",
              "      progress.max = size;\n",
              "      div.appendChild(progress);\n",
              "      document.body.appendChild(div);\n",
              "\n",
              "      const buffers = [];\n",
              "      let downloaded = 0;\n",
              "\n",
              "      const channel = await google.colab.kernel.comms.open(id);\n",
              "      // Send a message to notify the kernel that we're ready.\n",
              "      channel.send({})\n",
              "\n",
              "      for await (const message of channel.messages) {\n",
              "        // Send a message to notify the kernel that we're ready.\n",
              "        channel.send({})\n",
              "        if (message.buffers) {\n",
              "          for (const buffer of message.buffers) {\n",
              "            buffers.push(buffer);\n",
              "            downloaded += buffer.byteLength;\n",
              "            progress.value = downloaded;\n",
              "          }\n",
              "        }\n",
              "      }\n",
              "      const blob = new Blob(buffers, {type: 'application/binary'});\n",
              "      const a = document.createElement('a');\n",
              "      a.href = window.URL.createObjectURL(blob);\n",
              "      a.download = filename;\n",
              "      div.appendChild(a);\n",
              "      a.click();\n",
              "      div.remove();\n",
              "    }\n",
              "  "
            ]
          },
          "metadata": {}
        },
        {
          "output_type": "display_data",
          "data": {
            "text/plain": [
              "<IPython.core.display.Javascript object>"
            ],
            "application/javascript": [
              "download(\"download_afc49777-83e4-4623-90ce-9d44e120bedc\", \"xgboost_results.json\", 506)"
            ]
          },
          "metadata": {}
        }
      ]
    },
    {
      "cell_type": "markdown",
      "source": [
        "## 6. Train XGBoost Model with SMOTE\n",
        "\n",
        "We now call the xgboost_classification function to train the XGBoost model with using SMOTE. The results are stored in xgboost_results."
      ],
      "metadata": {
        "id": "NKrr0LoOII13"
      }
    },
    {
      "cell_type": "code",
      "source": [
        "import os\n",
        "import json\n",
        "import numpy as np\n",
        "import optuna\n",
        "import xgboost as xgb\n",
        "from imblearn.over_sampling import SMOTE\n",
        "from sklearn.metrics import precision_score, recall_score, f1_score, roc_auc_score\n",
        "from sklearn.preprocessing import StandardScaler\n",
        "from google.colab import files\n",
        "\n",
        "def xgboost_classification(X_train, Y_train, X_test, Y_test, optim_trials=50):\n",
        "    \"\"\"\n",
        "    Train an XGBoost model with SMOTE balancing and Optuna hyperparameter tuning.\n",
        "    Saves the best model and results to a local directory.\n",
        "    \"\"\"\n",
        "\n",
        "    # ✅ Create model-specific folder for saving models & logs\n",
        "    model_name = \"xgboost\"\n",
        "    save_path = f\"/content/drive/MyDrive/data/models/{model_name}\"\n",
        "    os.makedirs(save_path, exist_ok=True)\n",
        "\n",
        "    # ✅ Flatten Input Data (Convert 3D -> 2D)\n",
        "    X_train_flat = X_train.reshape(X_train.shape[0], -1)\n",
        "    X_test_flat = X_test.reshape(X_test.shape[0], -1)\n",
        "\n",
        "    # ✅ Convert One-Hot Labels to Class Indices\n",
        "    Y_train_labels = np.argmax(Y_train, axis=1)\n",
        "    Y_test_labels = np.argmax(Y_test, axis=1)\n",
        "\n",
        "    # ✅ Apply SMOTE to balance the training dataset\n",
        "    smote = SMOTE(sampling_strategy=\"auto\", random_state=42)\n",
        "    X_train_bal, Y_train_bal = smote.fit_resample(X_train_flat, Y_train_labels)\n",
        "\n",
        "    # ✅ Scale Features\n",
        "    scaler = StandardScaler()\n",
        "    X_train_bal = scaler.fit_transform(X_train_bal)\n",
        "    X_test_scaled = scaler.transform(X_test_flat)\n",
        "\n",
        "    def objective(trial):\n",
        "        \"\"\"Objective function for Optuna to optimize XGBoost hyperparameters.\"\"\"\n",
        "\n",
        "        # Define Hyperparameter Search Space\n",
        "        params = {\n",
        "            \"n_estimators\": trial.suggest_int(\"n_estimators\", 100, 1000, step=100),\n",
        "            \"max_depth\": trial.suggest_int(\"max_depth\", 3, 15),\n",
        "            \"learning_rate\": trial.suggest_float(\"learning_rate\", 0.01, 0.3, log=True),\n",
        "            \"subsample\": trial.suggest_float(\"subsample\", 0.5, 1.0),\n",
        "            \"colsample_bytree\": trial.suggest_float(\"colsample_bytree\", 0.5, 1.0),\n",
        "            \"reg_lambda\": trial.suggest_float(\"reg_lambda\", 1e-3, 10.0, log=True),\n",
        "            \"reg_alpha\": trial.suggest_float(\"reg_alpha\", 1e-3, 10.0, log=True),\n",
        "            \"gamma\": trial.suggest_float(\"gamma\", 1e-3, 10.0, log=True),\n",
        "            \"tree_method\": \"gpu_hist\" if xgb.get_config().get(\"gpu\") else \"hist\"\n",
        "        }\n",
        "\n",
        "        # Initialize XGBoost Model\n",
        "        model = xgb.XGBClassifier(**params)\n",
        "\n",
        "        # Train the Model\n",
        "        model.fit(X_train_bal, Y_train_bal)\n",
        "\n",
        "        # Make Predictions\n",
        "        Y_pred = model.predict(X_test_scaled)\n",
        "        Y_pred_probs = model.predict_proba(X_test_scaled)[:, 1]\n",
        "\n",
        "        # Compute Metrics\n",
        "        precision = precision_score(Y_test_labels, Y_pred, average=\"weighted\")\n",
        "        recall = recall_score(Y_test_labels, Y_pred, average=\"weighted\")\n",
        "        f1 = f1_score(Y_test_labels, Y_pred, average=\"weighted\")\n",
        "        roc_auc = roc_auc_score(Y_test_labels, Y_pred_probs)\n",
        "\n",
        "        return f1  # Optimize for F1-score\n",
        "\n",
        "    # ✅ Run Optuna Optimization\n",
        "    study = optuna.create_study(direction=\"maximize\")\n",
        "    study.optimize(objective, n_trials=optim_trials)\n",
        "\n",
        "    # ✅ Get Best Hyperparameters\n",
        "    best_params = study.best_params\n",
        "    print(f\"✅ Best Hyperparameters: {best_params}\")\n",
        "\n",
        "    # ✅ Train the Final Model with Best Parameters\n",
        "    best_model = xgb.XGBClassifier(**best_params)\n",
        "    best_model.fit(X_train_bal, Y_train_bal)\n",
        "\n",
        "    # ✅ Save the Best Model\n",
        "    model_path = os.path.join(save_path, \"xgboost_model_SMOTE.json\")\n",
        "    best_model.save_model(model_path)\n",
        "    print(f\"✅ Best XGBoost Model Saved: {model_path}\")\n",
        "\n",
        "    # Download the results file\n",
        "    files.download(model_path)\n",
        "\n",
        "    # ✅ Evaluate Final Model on Original Test Data\n",
        "    Y_pred_final = best_model.predict(X_test_scaled)\n",
        "    Y_pred_probs_final = best_model.predict_proba(X_test_scaled)[:, 1]\n",
        "\n",
        "    precision_final = precision_score(Y_test_labels, Y_pred_final, average=\"weighted\")\n",
        "    recall_final = recall_score(Y_test_labels, Y_pred_final, average=\"weighted\")\n",
        "    f1_final = f1_score(Y_test_labels, Y_pred_final, average=\"weighted\")\n",
        "    roc_auc_final = roc_auc_score(Y_test_labels, Y_pred_probs_final)\n",
        "\n",
        "    # ✅ Evaluate Model on Balanced Training Data\n",
        "    Y_pred_bal = best_model.predict(X_train_bal)\n",
        "    Y_pred_probs_bal = best_model.predict_proba(X_train_bal)[:, 1]\n",
        "\n",
        "    precision_bal = precision_score(Y_train_bal, Y_pred_bal, average=\"weighted\")\n",
        "    recall_bal = recall_score(Y_train_bal, Y_pred_bal, average=\"weighted\")\n",
        "    f1_bal = f1_score(Y_train_bal, Y_pred_bal, average=\"weighted\")\n",
        "    roc_auc_bal = roc_auc_score(Y_train_bal, Y_pred_probs_bal)\n",
        "\n",
        "    # ✅ Save Results in a JSON File\n",
        "    results = {\n",
        "        \"model\": \"XGBoost (SMOTE)\",\n",
        "        \"precision\": precision_final,\n",
        "        \"recall\": recall_final,\n",
        "        \"f1_score\": f1_final,\n",
        "        \"roc_auc\": roc_auc_final,\n",
        "        \"best_params\": best_params\n",
        "    }\n",
        "\n",
        "    results_path = os.path.join(save_path, \"xgboost_results_SMOTE.json\")\n",
        "    with open(results_path, \"w\") as f:\n",
        "        json.dump(results, f, indent=4)\n",
        "\n",
        "    print(f\"✅ Results Saved: {results_path}\")\n",
        "\n",
        "    # Download the results file\n",
        "    files.download(results_path)\n",
        "\n",
        "    # ✅ Print Performance Comparison Table\n",
        "    import pandas as pd\n",
        "    df_results = pd.DataFrame({\n",
        "        \"Metric\": [\"Precision\", \"Recall\", \"F1-Score\", \"ROC-AUC\"],\n",
        "        \"SMOTE Data\": [precision_bal, recall_bal, f1_bal, roc_auc_bal],\n",
        "        \"Original Test Data\": [precision_final, recall_final, f1_final, roc_auc_final]\n",
        "    })\n",
        "\n",
        "    print(\"\\n📊 **Performance Comparison (SMOTE vs Original Test Data)**\")\n",
        "    print(df_results.to_markdown())  # Prints table in readable format\n",
        "\n",
        "    return results"
      ],
      "metadata": {
        "id": "ike2UK3O34vJ"
      },
      "execution_count": 11,
      "outputs": []
    },
    {
      "cell_type": "code",
      "source": [
        "xgboost_results_SMOTE = xgboost_classification(X_train, Y_train, X_test, Y_test, optim_trials=50)"
      ],
      "metadata": {
        "colab": {
          "base_uri": "https://localhost:8080/",
          "height": 1000
        },
        "id": "KSf_q8HoBcYY",
        "outputId": "4349e6e7-c8a8-4546-d72d-accb5665a31c"
      },
      "execution_count": 12,
      "outputs": [
        {
          "output_type": "stream",
          "name": "stderr",
          "text": [
            "[I 2025-03-07 13:21:36,039] A new study created in memory with name: no-name-d4ddbe4e-dc37-4c24-b3b2-19c8df4c4752\n",
            "[I 2025-03-07 13:21:49,924] Trial 0 finished with value: 0.9118020413285317 and parameters: {'n_estimators': 500, 'max_depth': 13, 'learning_rate': 0.14410307505639075, 'subsample': 0.6870740880022244, 'colsample_bytree': 0.7113761002268923, 'reg_lambda': 4.8509845374564415, 'reg_alpha': 0.03280505331341346, 'gamma': 3.6440858430947887}. Best is trial 0 with value: 0.9118020413285317.\n",
            "[I 2025-03-07 13:23:07,248] Trial 1 finished with value: 0.9233311782109397 and parameters: {'n_estimators': 700, 'max_depth': 12, 'learning_rate': 0.011934874058179319, 'subsample': 0.5578705670863323, 'colsample_bytree': 0.5954706176450277, 'reg_lambda': 0.3664608782467573, 'reg_alpha': 0.07107297554237954, 'gamma': 1.8044338607312795}. Best is trial 1 with value: 0.9233311782109397.\n",
            "[I 2025-03-07 13:23:26,253] Trial 2 finished with value: 0.9183360786465139 and parameters: {'n_estimators': 700, 'max_depth': 15, 'learning_rate': 0.10255706421307001, 'subsample': 0.9781273202946967, 'colsample_bytree': 0.8196671588174894, 'reg_lambda': 0.1154261926859419, 'reg_alpha': 1.208178954365854, 'gamma': 2.867656810008041}. Best is trial 1 with value: 0.9233311782109397.\n",
            "[I 2025-03-07 13:24:15,412] Trial 3 finished with value: 0.9230722568830231 and parameters: {'n_estimators': 800, 'max_depth': 14, 'learning_rate': 0.18696499629457314, 'subsample': 0.6783253874118398, 'colsample_bytree': 0.8702963346482557, 'reg_lambda': 0.6602775189395304, 'reg_alpha': 0.0021227784284590144, 'gamma': 0.006126980635334251}. Best is trial 1 with value: 0.9233311782109397.\n",
            "[I 2025-03-07 13:24:41,480] Trial 4 finished with value: 0.9257248160400732 and parameters: {'n_estimators': 400, 'max_depth': 14, 'learning_rate': 0.27556709641420296, 'subsample': 0.8271753752823205, 'colsample_bytree': 0.7191357392053637, 'reg_lambda': 0.0019064011478348102, 'reg_alpha': 0.02833058286749096, 'gamma': 0.0072272989566442795}. Best is trial 4 with value: 0.9257248160400732.\n",
            "[I 2025-03-07 13:24:54,450] Trial 5 finished with value: 0.8981916141837499 and parameters: {'n_estimators': 100, 'max_depth': 9, 'learning_rate': 0.023871340479847198, 'subsample': 0.5586477517738194, 'colsample_bytree': 0.632340360918441, 'reg_lambda': 3.477306858907812, 'reg_alpha': 1.182314374465743, 'gamma': 0.0011704853234604387}. Best is trial 4 with value: 0.9257248160400732.\n",
            "[I 2025-03-07 13:25:30,248] Trial 6 finished with value: 0.9264280954611357 and parameters: {'n_estimators': 500, 'max_depth': 11, 'learning_rate': 0.09162005348627884, 'subsample': 0.7081658054125948, 'colsample_bytree': 0.5520750281939228, 'reg_lambda': 1.2573633861008136, 'reg_alpha': 0.0021587625165411435, 'gamma': 0.10941599882213458}. Best is trial 6 with value: 0.9264280954611357.\n",
            "[I 2025-03-07 13:25:47,360] Trial 7 finished with value: 0.9200481770642359 and parameters: {'n_estimators': 500, 'max_depth': 10, 'learning_rate': 0.085035021757286, 'subsample': 0.9486331992974013, 'colsample_bytree': 0.6591999582991923, 'reg_lambda': 0.09493837705024345, 'reg_alpha': 3.028904378318244, 'gamma': 1.6557564084589798}. Best is trial 6 with value: 0.9264280954611357.\n",
            "[I 2025-03-07 13:25:56,015] Trial 8 finished with value: 0.9004795421091757 and parameters: {'n_estimators': 400, 'max_depth': 3, 'learning_rate': 0.1141246204375024, 'subsample': 0.9496115596346664, 'colsample_bytree': 0.9033988339941688, 'reg_lambda': 0.017453885319983556, 'reg_alpha': 0.7808149335229418, 'gamma': 0.0013850941950389183}. Best is trial 6 with value: 0.9264280954611357.\n",
            "[I 2025-03-07 13:26:03,756] Trial 9 finished with value: 0.8833658811656142 and parameters: {'n_estimators': 400, 'max_depth': 3, 'learning_rate': 0.04671191095901281, 'subsample': 0.5616302715820032, 'colsample_bytree': 0.5535791841198441, 'reg_lambda': 0.0026097477039674, 'reg_alpha': 1.1850014381634548, 'gamma': 0.0713509127328021}. Best is trial 6 with value: 0.9264280954611357.\n",
            "[I 2025-03-07 13:26:51,220] Trial 10 finished with value: 0.9241601599602134 and parameters: {'n_estimators': 1000, 'max_depth': 7, 'learning_rate': 0.04452187459502335, 'subsample': 0.8185951175157111, 'colsample_bytree': 0.5062823766823313, 'reg_lambda': 1.0542345060666087, 'reg_alpha': 0.0015115257410317088, 'gamma': 0.18911499252705782}. Best is trial 6 with value: 0.9264280954611357.\n",
            "[I 2025-03-07 13:27:05,858] Trial 11 finished with value: 0.9208478924816703 and parameters: {'n_estimators': 200, 'max_depth': 11, 'learning_rate': 0.2867570356823954, 'subsample': 0.8169003868532556, 'colsample_bytree': 0.7701100980464678, 'reg_lambda': 0.0015706085255763902, 'reg_alpha': 0.009453341792808882, 'gamma': 0.034913954257430414}. Best is trial 6 with value: 0.9264280954611357.\n",
            "[I 2025-03-07 13:27:23,746] Trial 12 finished with value: 0.9176542765628743 and parameters: {'n_estimators': 300, 'max_depth': 8, 'learning_rate': 0.26783805553617446, 'subsample': 0.7848674532147764, 'colsample_bytree': 0.9678157854702165, 'reg_lambda': 0.009418618862584495, 'reg_alpha': 0.010546797936382548, 'gamma': 0.013761454874927128}. Best is trial 6 with value: 0.9264280954611357.\n",
            "[I 2025-03-07 13:27:48,535] Trial 13 finished with value: 0.9229925074190669 and parameters: {'n_estimators': 600, 'max_depth': 6, 'learning_rate': 0.07002559434970344, 'subsample': 0.7025700153554987, 'colsample_bytree': 0.7132853734864406, 'reg_lambda': 0.03109476879447824, 'reg_alpha': 0.00761359113993065, 'gamma': 0.261249201650032}. Best is trial 6 with value: 0.9264280954611357.\n",
            "[I 2025-03-07 13:28:29,104] Trial 14 finished with value: 0.9277254255643554 and parameters: {'n_estimators': 300, 'max_depth': 12, 'learning_rate': 0.033488245924609576, 'subsample': 0.8953007035787506, 'colsample_bytree': 0.5034109141608261, 'reg_lambda': 0.16985263425324473, 'reg_alpha': 0.2097248353817326, 'gamma': 0.37865720265153474}. Best is trial 14 with value: 0.9277254255643554.\n",
            "[I 2025-03-07 13:28:59,035] Trial 15 finished with value: 0.9247771766687606 and parameters: {'n_estimators': 200, 'max_depth': 11, 'learning_rate': 0.029020202120781914, 'subsample': 0.8889215025847317, 'colsample_bytree': 0.5119266676847885, 'reg_lambda': 0.18238902967935247, 'reg_alpha': 0.3283771621612226, 'gamma': 0.5232169804581691}. Best is trial 14 with value: 0.9277254255643554.\n",
            "[I 2025-03-07 13:29:19,339] Trial 16 finished with value: 0.9122456528314695 and parameters: {'n_estimators': 100, 'max_depth': 12, 'learning_rate': 0.025753805928853634, 'subsample': 0.641010174198003, 'colsample_bytree': 0.6039852775534652, 'reg_lambda': 1.6809552567869164, 'reg_alpha': 0.2100831295822775, 'gamma': 0.5533059291666762}. Best is trial 14 with value: 0.9277254255643554.\n",
            "[I 2025-03-07 13:29:30,479] Trial 17 finished with value: 0.8886044699377449 and parameters: {'n_estimators': 300, 'max_depth': 5, 'learning_rate': 0.017652829173630945, 'subsample': 0.8791742640981595, 'colsample_bytree': 0.5497970947473565, 'reg_lambda': 0.052929379988720236, 'reg_alpha': 9.586695674930935, 'gamma': 0.06361258041244736}. Best is trial 14 with value: 0.9277254255643554.\n",
            "[I 2025-03-07 13:29:46,904] Trial 18 finished with value: 0.9136049707032233 and parameters: {'n_estimators': 900, 'max_depth': 9, 'learning_rate': 0.062287238077817615, 'subsample': 0.752036678925249, 'colsample_bytree': 0.6641430399086595, 'reg_lambda': 0.3247353321895812, 'reg_alpha': 0.09968912131905673, 'gamma': 8.5884022003723}. Best is trial 14 with value: 0.9277254255643554.\n",
            "[I 2025-03-07 13:30:36,554] Trial 19 finished with value: 0.9252624947617482 and parameters: {'n_estimators': 600, 'max_depth': 10, 'learning_rate': 0.034746562710862273, 'subsample': 0.6306742099915166, 'colsample_bytree': 0.5765897797151555, 'reg_lambda': 2.0427843651111597, 'reg_alpha': 0.0032867831683801763, 'gamma': 0.5623184392179118}. Best is trial 14 with value: 0.9277254255643554.\n",
            "[I 2025-03-07 13:31:36,551] Trial 20 finished with value: 0.9259589336238025 and parameters: {'n_estimators': 300, 'max_depth': 13, 'learning_rate': 0.016562705915592786, 'subsample': 0.8849392828992756, 'colsample_bytree': 0.5000783696676643, 'reg_lambda': 0.638293605429033, 'reg_alpha': 0.27017797703294616, 'gamma': 0.02924219578118008}. Best is trial 14 with value: 0.9277254255643554.\n",
            "[I 2025-03-07 13:32:42,233] Trial 21 finished with value: 0.9132165645234627 and parameters: {'n_estimators': 300, 'max_depth': 13, 'learning_rate': 0.01015506999590806, 'subsample': 0.898294117350356, 'colsample_bytree': 0.5085793139811393, 'reg_lambda': 8.721852547877068, 'reg_alpha': 0.1977273753327421, 'gamma': 0.032495328258634354}. Best is trial 14 with value: 0.9277254255643554.\n",
            "[I 2025-03-07 13:33:21,234] Trial 22 finished with value: 0.9192863885372866 and parameters: {'n_estimators': 200, 'max_depth': 12, 'learning_rate': 0.016600188139646897, 'subsample': 0.7436841999538629, 'colsample_bytree': 0.5482575419672354, 'reg_lambda': 0.4039608478469762, 'reg_alpha': 0.4265572430589904, 'gamma': 0.1713592080448154}. Best is trial 14 with value: 0.9277254255643554.\n",
            "[I 2025-03-07 13:34:45,527] Trial 23 finished with value: 0.9267742016438817 and parameters: {'n_estimators': 400, 'max_depth': 15, 'learning_rate': 0.015841131739752448, 'subsample': 0.8575265603332404, 'colsample_bytree': 0.501781458081438, 'reg_lambda': 0.7696898504144036, 'reg_alpha': 0.04903429334966628, 'gamma': 0.02035123630436216}. Best is trial 14 with value: 0.9277254255643554.\n",
            "[I 2025-03-07 13:35:51,881] Trial 24 finished with value: 0.9295098515964153 and parameters: {'n_estimators': 500, 'max_depth': 15, 'learning_rate': 0.03804751542516036, 'subsample': 0.8620287829562043, 'colsample_bytree': 0.6124105877772891, 'reg_lambda': 0.19047195760669777, 'reg_alpha': 0.032408768534243335, 'gamma': 0.011439368452934912}. Best is trial 24 with value: 0.9295098515964153.\n",
            "[I 2025-03-07 13:36:56,491] Trial 25 finished with value: 0.9283435684551201 and parameters: {'n_estimators': 400, 'max_depth': 15, 'learning_rate': 0.034602525685155684, 'subsample': 0.8484526896343094, 'colsample_bytree': 0.6325071691280308, 'reg_lambda': 0.1654195389117964, 'reg_alpha': 0.03557107302874822, 'gamma': 0.003368001493953068}. Best is trial 24 with value: 0.9295098515964153.\n",
            "[I 2025-03-07 13:38:15,114] Trial 26 finished with value: 0.9302136110322116 and parameters: {'n_estimators': 600, 'max_depth': 15, 'learning_rate': 0.03405716039809715, 'subsample': 0.9422495136874474, 'colsample_bytree': 0.6363712241155757, 'reg_lambda': 0.1478606685059865, 'reg_alpha': 0.01847379630699163, 'gamma': 0.002802371805052699}. Best is trial 26 with value: 0.9302136110322116.\n",
            "[I 2025-03-07 13:39:29,417] Trial 27 finished with value: 0.9282137230006033 and parameters: {'n_estimators': 700, 'max_depth': 15, 'learning_rate': 0.04516859292006141, 'subsample': 0.9931925305356792, 'colsample_bytree': 0.6632283244871282, 'reg_lambda': 0.053582932662977346, 'reg_alpha': 0.018690550540697737, 'gamma': 0.0033285005101252835}. Best is trial 26 with value: 0.9302136110322116.\n",
            "[I 2025-03-07 13:41:03,226] Trial 28 finished with value: 0.9308551342891922 and parameters: {'n_estimators': 600, 'max_depth': 14, 'learning_rate': 0.022098995156749623, 'subsample': 0.9574249176216127, 'colsample_bytree': 0.6244893917948624, 'reg_lambda': 0.009868272811544296, 'reg_alpha': 0.0051433149949246144, 'gamma': 0.0019546447174180973}. Best is trial 28 with value: 0.9308551342891922.\n",
            "[I 2025-03-07 13:42:46,946] Trial 29 finished with value: 0.9288058680134741 and parameters: {'n_estimators': 600, 'max_depth': 14, 'learning_rate': 0.02113385847241718, 'subsample': 0.9391485139318709, 'colsample_bytree': 0.7681562437928268, 'reg_lambda': 0.016547705972261385, 'reg_alpha': 0.00513662995456621, 'gamma': 0.002418222764300429}. Best is trial 28 with value: 0.9308551342891922.\n",
            "[I 2025-03-07 13:43:54,483] Trial 30 finished with value: 0.9308866663941574 and parameters: {'n_estimators': 800, 'max_depth': 13, 'learning_rate': 0.05560413841372378, 'subsample': 0.9206520468589732, 'colsample_bytree': 0.6863666126864513, 'reg_lambda': 0.0048606340258615785, 'reg_alpha': 0.01524567672469472, 'gamma': 0.007790758863797976}. Best is trial 30 with value: 0.9308866663941574.\n",
            "[I 2025-03-07 13:45:00,938] Trial 31 finished with value: 0.9307292869844968 and parameters: {'n_estimators': 800, 'max_depth': 13, 'learning_rate': 0.05847502260528093, 'subsample': 0.9262228276467865, 'colsample_bytree': 0.6920507347843615, 'reg_lambda': 0.004468265945214613, 'reg_alpha': 0.017045639926516948, 'gamma': 0.008462150902082057}. Best is trial 30 with value: 0.9308866663941574.\n",
            "[I 2025-03-07 13:46:05,474] Trial 32 finished with value: 0.9299805694689346 and parameters: {'n_estimators': 800, 'max_depth': 13, 'learning_rate': 0.06033836159134676, 'subsample': 0.9347105094019154, 'colsample_bytree': 0.6889651248395682, 'reg_lambda': 0.004581120228930105, 'reg_alpha': 0.015874468162404377, 'gamma': 0.005995595405589949}. Best is trial 30 with value: 0.9308866663941574.\n",
            "[I 2025-03-07 13:47:08,939] Trial 33 finished with value: 0.9301508745927323 and parameters: {'n_estimators': 800, 'max_depth': 14, 'learning_rate': 0.07261604534004246, 'subsample': 0.9887830889225521, 'colsample_bytree': 0.7251251532463958, 'reg_lambda': 0.005094918057556331, 'reg_alpha': 0.0042389587921985725, 'gamma': 0.0020469568107289813}. Best is trial 30 with value: 0.9308866663941574.\n",
            "[I 2025-03-07 13:48:25,338] Trial 34 finished with value: 0.9298025884826171 and parameters: {'n_estimators': 900, 'max_depth': 13, 'learning_rate': 0.05147490040949974, 'subsample': 0.9656959203120412, 'colsample_bytree': 0.7437295681846939, 'reg_lambda': 0.004705386215675065, 'reg_alpha': 0.0010224809096866308, 'gamma': 0.00413364727502343}. Best is trial 30 with value: 0.9308866663941574.\n",
            "[I 2025-03-07 13:49:03,223] Trial 35 finished with value: 0.9258980366457841 and parameters: {'n_estimators': 700, 'max_depth': 14, 'learning_rate': 0.16030752586676403, 'subsample': 0.9189688900102988, 'colsample_bytree': 0.8141427783553127, 'reg_lambda': 0.0011468461326586325, 'reg_alpha': 0.017374390234972684, 'gamma': 0.011770847639254959}. Best is trial 30 with value: 0.9308866663941574.\n",
            "[I 2025-03-07 13:50:45,682] Trial 36 finished with value: 0.93147651498289 and parameters: {'n_estimators': 900, 'max_depth': 14, 'learning_rate': 0.028650573533526607, 'subsample': 0.9188315188189795, 'colsample_bytree': 0.6849334807602284, 'reg_lambda': 0.007823342083015364, 'reg_alpha': 0.06645418716773614, 'gamma': 0.001017504422147094}. Best is trial 36 with value: 0.93147651498289.\n",
            "[I 2025-03-07 13:51:42,525] Trial 37 finished with value: 0.9273515274162762 and parameters: {'n_estimators': 1000, 'max_depth': 12, 'learning_rate': 0.12054333449110491, 'subsample': 0.970329295746083, 'colsample_bytree': 0.6897433066201081, 'reg_lambda': 0.012608436081803313, 'reg_alpha': 0.08055405142418434, 'gamma': 0.001036472216551172}. Best is trial 36 with value: 0.93147651498289.\n",
            "[I 2025-03-07 13:53:49,105] Trial 38 finished with value: 0.9320216067936059 and parameters: {'n_estimators': 900, 'max_depth': 14, 'learning_rate': 0.020735990673936975, 'subsample': 0.918025360883379, 'colsample_bytree': 0.7994052206660127, 'reg_lambda': 0.008677039997644595, 'reg_alpha': 0.006332478228233892, 'gamma': 0.0016092120293329441}. Best is trial 38 with value: 0.9320216067936059.\n",
            "[I 2025-03-07 13:56:28,396] Trial 39 finished with value: 0.9295518179456035 and parameters: {'n_estimators': 900, 'max_depth': 14, 'learning_rate': 0.01394459665818616, 'subsample': 0.9116471427993443, 'colsample_bytree': 0.8163693119026387, 'reg_lambda': 0.00784240842266375, 'reg_alpha': 0.055007074431785576, 'gamma': 0.0015284108994142052}. Best is trial 38 with value: 0.9320216067936059.\n",
            "[I 2025-03-07 13:58:34,083] Trial 40 finished with value: 0.9266925671226551 and parameters: {'n_estimators': 900, 'max_depth': 14, 'learning_rate': 0.020304892542467978, 'subsample': 0.505984523471565, 'colsample_bytree': 0.8668543159173308, 'reg_lambda': 0.0029395793391222423, 'reg_alpha': 0.0024850163929741064, 'gamma': 0.005406206786211807}. Best is trial 38 with value: 0.9320216067936059.\n",
            "[I 2025-03-07 14:00:12,702] Trial 41 finished with value: 0.931517975649359 and parameters: {'n_estimators': 800, 'max_depth': 13, 'learning_rate': 0.027093910395973662, 'subsample': 0.9194598128170377, 'colsample_bytree': 0.7835111805289864, 'reg_lambda': 0.028955736143663438, 'reg_alpha': 0.0061275589714738675, 'gamma': 0.0017040518665375106}. Best is trial 38 with value: 0.9320216067936059.\n",
            "[I 2025-03-07 14:02:03,790] Trial 42 finished with value: 0.9326646012335962 and parameters: {'n_estimators': 1000, 'max_depth': 13, 'learning_rate': 0.026933554055578582, 'subsample': 0.964398495253398, 'colsample_bytree': 0.783767815111626, 'reg_lambda': 0.025165481917973135, 'reg_alpha': 0.007334283070323374, 'gamma': 0.0016586857942695568}. Best is trial 42 with value: 0.9326646012335962.\n",
            "[I 2025-03-07 14:03:41,024] Trial 43 finished with value: 0.9308134562503273 and parameters: {'n_estimators': 1000, 'max_depth': 11, 'learning_rate': 0.02701922024239885, 'subsample': 0.997264199473688, 'colsample_bytree': 0.7863065680444186, 'reg_lambda': 0.030336751068508534, 'reg_alpha': 0.007529606747414681, 'gamma': 0.0010284636948132556}. Best is trial 42 with value: 0.9326646012335962.\n",
            "[I 2025-03-07 14:05:28,584] Trial 44 finished with value: 0.9297595260858216 and parameters: {'n_estimators': 1000, 'max_depth': 13, 'learning_rate': 0.03029271748890501, 'subsample': 0.835563247105723, 'colsample_bytree': 0.8514364100456502, 'reg_lambda': 0.026116377112730137, 'reg_alpha': 0.011251486234059643, 'gamma': 0.0015872840438253617}. Best is trial 42 with value: 0.9326646012335962.\n",
            "[I 2025-03-07 14:06:49,902] Trial 45 finished with value: 0.9277944290528195 and parameters: {'n_estimators': 900, 'max_depth': 12, 'learning_rate': 0.04074444455769158, 'subsample': 0.7965796280520909, 'colsample_bytree': 0.749555574286969, 'reg_lambda': 0.05374011791373879, 'reg_alpha': 0.0031458608587087646, 'gamma': 0.004752467010253649}. Best is trial 42 with value: 0.9326646012335962.\n",
            "[I 2025-03-07 14:08:48,343] Trial 46 finished with value: 0.9251730718274936 and parameters: {'n_estimators': 800, 'max_depth': 10, 'learning_rate': 0.012850943507713163, 'subsample': 0.9105584298508045, 'colsample_bytree': 0.8989173417553591, 'reg_lambda': 0.02097857498956048, 'reg_alpha': 0.0014026816857030733, 'gamma': 0.0022408840384996365}. Best is trial 42 with value: 0.9326646012335962.\n",
            "[I 2025-03-07 14:10:44,297] Trial 47 finished with value: 0.9292469784994672 and parameters: {'n_estimators': 700, 'max_depth': 13, 'learning_rate': 0.019571778867000844, 'subsample': 0.9710272245697827, 'colsample_bytree': 0.8374844429118109, 'reg_lambda': 0.007659220558776342, 'reg_alpha': 0.006589890186953702, 'gamma': 0.008220896011157629}. Best is trial 42 with value: 0.9326646012335962.\n",
            "[I 2025-03-07 14:12:39,539] Trial 48 finished with value: 0.9298666632022551 and parameters: {'n_estimators': 1000, 'max_depth': 12, 'learning_rate': 0.024194233274410174, 'subsample': 0.8720279540097496, 'colsample_bytree': 0.7893559251499579, 'reg_lambda': 0.003108923491156802, 'reg_alpha': 0.13288091789061862, 'gamma': 0.0014450789668726885}. Best is trial 42 with value: 0.9326646012335962.\n",
            "[I 2025-03-07 14:14:07,871] Trial 49 finished with value: 0.9292043937456211 and parameters: {'n_estimators': 900, 'max_depth': 11, 'learning_rate': 0.02956515728747114, 'subsample': 0.9094260850708324, 'colsample_bytree': 0.7272688488807151, 'reg_lambda': 0.013461372814729127, 'reg_alpha': 0.02690476035726664, 'gamma': 0.0031992843695147453}. Best is trial 42 with value: 0.9326646012335962.\n"
          ]
        },
        {
          "output_type": "stream",
          "name": "stdout",
          "text": [
            "✅ Best Hyperparameters: {'n_estimators': 1000, 'max_depth': 13, 'learning_rate': 0.026933554055578582, 'subsample': 0.964398495253398, 'colsample_bytree': 0.783767815111626, 'reg_lambda': 0.025165481917973135, 'reg_alpha': 0.007334283070323374, 'gamma': 0.0016586857942695568}\n",
            "✅ Best XGBoost Model Saved: /content/drive/MyDrive/data/models/xgboost/xgboost_model_SMOTE.json\n"
          ]
        },
        {
          "output_type": "display_data",
          "data": {
            "text/plain": [
              "<IPython.core.display.Javascript object>"
            ],
            "application/javascript": [
              "\n",
              "    async function download(id, filename, size) {\n",
              "      if (!google.colab.kernel.accessAllowed) {\n",
              "        return;\n",
              "      }\n",
              "      const div = document.createElement('div');\n",
              "      const label = document.createElement('label');\n",
              "      label.textContent = `Downloading \"${filename}\": `;\n",
              "      div.appendChild(label);\n",
              "      const progress = document.createElement('progress');\n",
              "      progress.max = size;\n",
              "      div.appendChild(progress);\n",
              "      document.body.appendChild(div);\n",
              "\n",
              "      const buffers = [];\n",
              "      let downloaded = 0;\n",
              "\n",
              "      const channel = await google.colab.kernel.comms.open(id);\n",
              "      // Send a message to notify the kernel that we're ready.\n",
              "      channel.send({})\n",
              "\n",
              "      for await (const message of channel.messages) {\n",
              "        // Send a message to notify the kernel that we're ready.\n",
              "        channel.send({})\n",
              "        if (message.buffers) {\n",
              "          for (const buffer of message.buffers) {\n",
              "            buffers.push(buffer);\n",
              "            downloaded += buffer.byteLength;\n",
              "            progress.value = downloaded;\n",
              "          }\n",
              "        }\n",
              "      }\n",
              "      const blob = new Blob(buffers, {type: 'application/binary'});\n",
              "      const a = document.createElement('a');\n",
              "      a.href = window.URL.createObjectURL(blob);\n",
              "      a.download = filename;\n",
              "      div.appendChild(a);\n",
              "      a.click();\n",
              "      div.remove();\n",
              "    }\n",
              "  "
            ]
          },
          "metadata": {}
        },
        {
          "output_type": "display_data",
          "data": {
            "text/plain": [
              "<IPython.core.display.Javascript object>"
            ],
            "application/javascript": [
              "download(\"download_29c50765-21d8-45c0-914e-20131d79071b\", \"xgboost_model_SMOTE.json\", 18846694)"
            ]
          },
          "metadata": {}
        },
        {
          "output_type": "stream",
          "name": "stdout",
          "text": [
            "✅ Results Saved: /content/drive/MyDrive/data/models/xgboost/xgboost_results_SMOTE.json\n"
          ]
        },
        {
          "output_type": "display_data",
          "data": {
            "text/plain": [
              "<IPython.core.display.Javascript object>"
            ],
            "application/javascript": [
              "\n",
              "    async function download(id, filename, size) {\n",
              "      if (!google.colab.kernel.accessAllowed) {\n",
              "        return;\n",
              "      }\n",
              "      const div = document.createElement('div');\n",
              "      const label = document.createElement('label');\n",
              "      label.textContent = `Downloading \"${filename}\": `;\n",
              "      div.appendChild(label);\n",
              "      const progress = document.createElement('progress');\n",
              "      progress.max = size;\n",
              "      div.appendChild(progress);\n",
              "      document.body.appendChild(div);\n",
              "\n",
              "      const buffers = [];\n",
              "      let downloaded = 0;\n",
              "\n",
              "      const channel = await google.colab.kernel.comms.open(id);\n",
              "      // Send a message to notify the kernel that we're ready.\n",
              "      channel.send({})\n",
              "\n",
              "      for await (const message of channel.messages) {\n",
              "        // Send a message to notify the kernel that we're ready.\n",
              "        channel.send({})\n",
              "        if (message.buffers) {\n",
              "          for (const buffer of message.buffers) {\n",
              "            buffers.push(buffer);\n",
              "            downloaded += buffer.byteLength;\n",
              "            progress.value = downloaded;\n",
              "          }\n",
              "        }\n",
              "      }\n",
              "      const blob = new Blob(buffers, {type: 'application/binary'});\n",
              "      const a = document.createElement('a');\n",
              "      a.href = window.URL.createObjectURL(blob);\n",
              "      a.download = filename;\n",
              "      div.appendChild(a);\n",
              "      a.click();\n",
              "      div.remove();\n",
              "    }\n",
              "  "
            ]
          },
          "metadata": {}
        },
        {
          "output_type": "display_data",
          "data": {
            "text/plain": [
              "<IPython.core.display.Javascript object>"
            ],
            "application/javascript": [
              "download(\"download_69d8fe68-4fbc-4074-915a-d60cdeb4b2c1\", \"xgboost_results_SMOTE.json\", 519)"
            ]
          },
          "metadata": {}
        },
        {
          "output_type": "stream",
          "name": "stdout",
          "text": [
            "\n",
            "📊 **Performance Comparison (SMOTE vs Original Test Data)**\n",
            "|    | Metric    |   SMOTE Data |   Original Test Data |\n",
            "|---:|:----------|-------------:|---------------------:|\n",
            "|  0 | Precision |            1 |             0.934513 |\n",
            "|  1 | Recall    |            1 |             0.931738 |\n",
            "|  2 | F1-Score  |            1 |             0.932665 |\n",
            "|  3 | ROC-AUC   |            1 |             0.975493 |\n"
          ]
        }
      ]
    },
    {
      "cell_type": "markdown",
      "source": [
        "## 7. Obtimising XGBoost model without SMOTE\n",
        "\n",
        "### What Improved?\n",
        "\n",
        "*   More Trees: n_estimators = 500 to 2000\n",
        "*   Deeper Trees: max_depth = 5 to 30\n",
        "*   Better Splitting Strategy: grow_policy = \"lossguide\"\n",
        "*   Lower Learning Rate: 0.005 to 0.1 for better convergence\n",
        "*   Early Stopping: Stops if no improvement in 50 rounds\n",
        "*   Class Balancing: scale_pos_weight auto-computed\n",
        "*   GPU-Optimized: \"device\": \"cuda\" for fast training\n",
        "*   Increased Trials: study.optimize(n_trials=300)"
      ],
      "metadata": {
        "id": "ODgUNiOgJ3t_"
      }
    },
    {
      "cell_type": "code",
      "source": [
        "import os\n",
        "import json\n",
        "import numpy as np\n",
        "import optuna\n",
        "import xgboost as xgb\n",
        "import pandas as pd\n",
        "from joblib import dump, load\n",
        "from sklearn.model_selection import StratifiedKFold\n",
        "from sklearn.preprocessing import StandardScaler\n",
        "from sklearn.metrics import precision_score, recall_score, f1_score, roc_auc_score\n",
        "from google.colab import files\n",
        "\n",
        "# ✅ Ensure output directory exists\n",
        "SAVE_DIR = \"/content/drive/MyDrive/data/models/xgboost_optimized\"\n",
        "os.makedirs(SAVE_DIR, exist_ok=True)\n",
        "\n",
        "# ✅ Load Data\n",
        "X_train_flat = X_train.reshape(X_train.shape[0], -1)\n",
        "X_test_flat = X_test.reshape(X_test.shape[0], -1)\n",
        "Y_train_labels = np.argmax(Y_train, axis=1)\n",
        "Y_test_labels = np.argmax(Y_test, axis=1)\n",
        "\n",
        "# ✅ Scale Features\n",
        "scaler = StandardScaler()\n",
        "X_train_scaled = scaler.fit_transform(X_train_flat)\n",
        "X_test_scaled = scaler.transform(X_test_flat)\n",
        "dump(scaler, os.path.join(SAVE_DIR, \"xgboost_scaler.pkl\"))\n",
        "\n",
        "# ✅ Optuna Optimization with Stratified K-Fold CV\n",
        "def objective(trial):\n",
        "    params = {\n",
        "        \"n_estimators\": trial.suggest_int(\"n_estimators\", 100, 1000, step=100),\n",
        "        \"max_depth\": trial.suggest_int(\"max_depth\", 3, 15),\n",
        "        \"learning_rate\": trial.suggest_float(\"learning_rate\", 0.01, 0.3, log=True),\n",
        "        \"subsample\": trial.suggest_float(\"subsample\", 0.5, 1.0),\n",
        "        \"colsample_bytree\": trial.suggest_float(\"colsample_bytree\", 0.5, 1.0),\n",
        "        \"reg_lambda\": trial.suggest_float(\"reg_lambda\", 1e-3, 10.0, log=True),\n",
        "        \"reg_alpha\": trial.suggest_float(\"reg_alpha\", 1e-3, 10.0, log=True),\n",
        "        \"gamma\": trial.suggest_float(\"gamma\", 1e-3, 10.0, log=True),\n",
        "        \"tree_method\": \"hist\",  # ✅ Use \"hist\" (or \"gpu_hist\" for older XGBoost)\n",
        "        \"device\": \"cuda\"  # ✅ Ensures GPU usage\n",
        "    }\n",
        "\n",
        "    skf = StratifiedKFold(n_splits=5, shuffle=True, random_state=42)\n",
        "    f1_scores = []\n",
        "\n",
        "    for train_idx, val_idx in skf.split(X_train_scaled, Y_train_labels):\n",
        "        X_train_fold, X_val_fold = X_train_scaled[train_idx], X_train_scaled[val_idx]\n",
        "        Y_train_fold, Y_val_fold = Y_train_labels[train_idx], Y_train_labels[val_idx]\n",
        "\n",
        "        dtrain = xgb.DMatrix(X_train_fold, label=Y_train_fold)  # ✅ FIX: Removed `device=\"cuda\"`\n",
        "        dval = xgb.DMatrix(X_val_fold, label=Y_val_fold)  # ✅ FIX: Removed `device=\"cuda\"`\n",
        "\n",
        "        model = xgb.XGBClassifier(**params)\n",
        "        model.fit(X_train_fold, Y_train_fold)\n",
        "\n",
        "        Y_pred = model.predict(X_val_fold)\n",
        "        f1_scores.append(f1_score(Y_val_fold, Y_pred, average=\"weighted\"))\n",
        "\n",
        "    return np.mean(f1_scores)\n",
        "\n",
        "# ✅ Run Optuna Optimization\n",
        "study = optuna.create_study(direction=\"maximize\")\n",
        "study.optimize(objective, n_trials=150)\n",
        "\n",
        "# ✅ Train Final Model with Best Parameters\n",
        "best_params = study.best_params\n",
        "\n",
        "# ✅ Convert train & test sets to DMatrix\n",
        "dtrain = xgb.DMatrix(X_train_scaled, label=Y_train_labels)\n",
        "dtest = xgb.DMatrix(X_test_scaled, label=Y_test_labels)\n",
        "\n",
        "# ✅ Train Best Model\n",
        "best_model = xgb.XGBClassifier(**best_params)\n",
        "best_model.fit(X_train_scaled, Y_train_labels)\n",
        "\n",
        "# ✅ Save Model\n",
        "model_path = os.path.join(SAVE_DIR, \"xgboost_optimized.json\")\n",
        "best_model.save_model(model_path)\n",
        "print(f\"✅ Best XGBoost Model Saved: {model_path}\")\n",
        "\n",
        "# ✅ Evaluate Final Model\n",
        "Y_pred = best_model.predict(X_test_scaled)\n",
        "Y_pred_probs = best_model.predict_proba(X_test_scaled)[:, 1]\n",
        "\n",
        "precision = precision_score(Y_test_labels, Y_pred, average=\"weighted\")\n",
        "recall = recall_score(Y_test_labels, Y_pred, average=\"weighted\")\n",
        "f1 = f1_score(Y_test_labels, Y_pred, average=\"weighted\")\n",
        "roc_auc = roc_auc_score(Y_test_labels, Y_pred_probs)\n",
        "\n",
        "# ✅ Save Results\n",
        "results = {\n",
        "    \"model\": \"XGBoost Optimized\",\n",
        "    \"precision\": precision,\n",
        "    \"recall\": recall,\n",
        "    \"f1_score\": f1,\n",
        "    \"roc_auc\": roc_auc,\n",
        "    \"best_params\": best_params\n",
        "}\n",
        "\n",
        "results_path = os.path.join(SAVE_DIR, \"xgboost_optimized_results.json\")\n",
        "with open(results_path, \"w\") as f:\n",
        "    json.dump(results, f, indent=4)\n",
        "\n",
        "print(f\"✅ Results Saved: {results_path}\")\n",
        "\n",
        "# ✅ Print Final Model Performance\n",
        "print(\"\\n📊 **Optimized XGBoost Performance**\")\n",
        "df_results = pd.DataFrame({\n",
        "    \"Metric\": [\"Precision\", \"Recall\", \"F1-Score\", \"ROC-AUC\"],\n",
        "    \"XGBoost Optimized\": [precision, recall, f1, roc_auc]\n",
        "})\n",
        "print(df_results.to_markdown())\n",
        "\n",
        "# ✅ Download Results\n",
        "download_paths = [model_path, results_path, os.path.join(SAVE_DIR, \"xgboost_scaler.pkl\")]\n",
        "for path in download_paths:\n",
        "    files.download(path)"
      ],
      "metadata": {
        "id": "6kSIBLz8gj0N",
        "colab": {
          "base_uri": "https://localhost:8080/",
          "height": 1000
        },
        "outputId": "c95756bf-99b0-486a-8156-15ac146e998c"
      },
      "execution_count": null,
      "outputs": [
        {
          "output_type": "stream",
          "name": "stderr",
          "text": [
            "[I 2025-03-07 05:12:48,238] A new study created in memory with name: no-name-bd6a84e6-2be5-4ffe-8f37-e350b4b8cd1c\n",
            "[I 2025-03-07 05:12:59,888] Trial 0 finished with value: 0.9022912002662528 and parameters: {'n_estimators': 700, 'max_depth': 6, 'learning_rate': 0.25484916635219884, 'subsample': 0.5958141478085047, 'colsample_bytree': 0.6201854030343443, 'reg_lambda': 0.38775614554114707, 'reg_alpha': 0.029536071090531118, 'gamma': 0.012557609611422526}. Best is trial 0 with value: 0.9022912002662528.\n",
            "[I 2025-03-07 05:13:07,547] Trial 1 finished with value: 0.8502193710923261 and parameters: {'n_estimators': 800, 'max_depth': 3, 'learning_rate': 0.014858489782875526, 'subsample': 0.8756373048951391, 'colsample_bytree': 0.8516850330188945, 'reg_lambda': 0.37227105945126726, 'reg_alpha': 0.039290185100852436, 'gamma': 1.1436549574187098}. Best is trial 0 with value: 0.9022912002662528.\n",
            "[I 2025-03-07 05:13:22,536] Trial 2 finished with value: 0.9108267421424271 and parameters: {'n_estimators': 800, 'max_depth': 6, 'learning_rate': 0.04366192980172681, 'subsample': 0.704377997238347, 'colsample_bytree': 0.8239914141260443, 'reg_lambda': 0.0505921344388749, 'reg_alpha': 0.12271058587894378, 'gamma': 0.013694114925542612}. Best is trial 2 with value: 0.9108267421424271.\n",
            "[I 2025-03-07 05:13:36,373] Trial 3 finished with value: 0.9037169145755627 and parameters: {'n_estimators': 800, 'max_depth': 11, 'learning_rate': 0.2634462108259739, 'subsample': 0.7279787131786402, 'colsample_bytree': 0.7331036508157283, 'reg_lambda': 0.050345189951310855, 'reg_alpha': 1.6153814945137264, 'gamma': 0.014762851106567509}. Best is trial 2 with value: 0.9108267421424271.\n",
            "[I 2025-03-07 05:13:45,897] Trial 4 finished with value: 0.8963382372250172 and parameters: {'n_estimators': 900, 'max_depth': 13, 'learning_rate': 0.09636418910027733, 'subsample': 0.8482972326863242, 'colsample_bytree': 0.8756970273142743, 'reg_lambda': 2.5922468247262116, 'reg_alpha': 0.02814486849145944, 'gamma': 5.316007128552411}. Best is trial 2 with value: 0.9108267421424271.\n",
            "[I 2025-03-07 05:14:04,240] Trial 5 finished with value: 0.8990155485987215 and parameters: {'n_estimators': 900, 'max_depth': 6, 'learning_rate': 0.012865004001576204, 'subsample': 0.9388538917382936, 'colsample_bytree': 0.940178087037128, 'reg_lambda': 4.049647928757213, 'reg_alpha': 2.2785695586488495, 'gamma': 0.0025146317324408773}. Best is trial 2 with value: 0.9108267421424271.\n",
            "[I 2025-03-07 05:14:22,748] Trial 6 finished with value: 0.9009506291985337 and parameters: {'n_estimators': 700, 'max_depth': 7, 'learning_rate': 0.01168892563423588, 'subsample': 0.5966140913786951, 'colsample_bytree': 0.9569986798846897, 'reg_lambda': 0.1915692791723975, 'reg_alpha': 0.003662826902066739, 'gamma': 0.015894461766111253}. Best is trial 2 with value: 0.9108267421424271.\n",
            "[I 2025-03-07 05:14:38,413] Trial 7 finished with value: 0.9145442327943304 and parameters: {'n_estimators': 300, 'max_depth': 14, 'learning_rate': 0.07759190463953408, 'subsample': 0.8143546114143623, 'colsample_bytree': 0.9154050673776435, 'reg_lambda': 0.0017069519689629125, 'reg_alpha': 0.009617298668599537, 'gamma': 0.005384698748106404}. Best is trial 7 with value: 0.9145442327943304.\n",
            "[I 2025-03-07 05:14:49,067] Trial 8 finished with value: 0.8988253954649927 and parameters: {'n_estimators': 600, 'max_depth': 11, 'learning_rate': 0.02896085174389004, 'subsample': 0.5730731133866875, 'colsample_bytree': 0.7083623144789949, 'reg_lambda': 0.007164830641347986, 'reg_alpha': 0.04865822695645795, 'gamma': 4.544349277552776}. Best is trial 7 with value: 0.9145442327943304.\n",
            "[I 2025-03-07 05:15:15,193] Trial 9 finished with value: 0.9092485288191883 and parameters: {'n_estimators': 1000, 'max_depth': 12, 'learning_rate': 0.2163752052822793, 'subsample': 0.7306333832311109, 'colsample_bytree': 0.6825997263949066, 'reg_lambda': 5.973322732090531, 'reg_alpha': 0.027575403668069105, 'gamma': 0.01014080186028302}. Best is trial 7 with value: 0.9145442327943304.\n",
            "[I 2025-03-07 05:15:26,371] Trial 10 finished with value: 0.9131884793754667 and parameters: {'n_estimators': 200, 'max_depth': 15, 'learning_rate': 0.09690569139271224, 'subsample': 0.9974633650682134, 'colsample_bytree': 0.513888128905851, 'reg_lambda': 0.0013408181576965064, 'reg_alpha': 0.0012546278600199022, 'gamma': 0.14926701724513783}. Best is trial 7 with value: 0.9145442327943304.\n",
            "[I 2025-03-07 05:15:36,992] Trial 11 finished with value: 0.9123017719482946 and parameters: {'n_estimators': 200, 'max_depth': 15, 'learning_rate': 0.10207170970528114, 'subsample': 0.9924608151709964, 'colsample_bytree': 0.551857929783359, 'reg_lambda': 0.0014914262673137466, 'reg_alpha': 0.0012349288930044462, 'gamma': 0.16375898495134794}. Best is trial 7 with value: 0.9145442327943304.\n",
            "[I 2025-03-07 05:15:47,937] Trial 12 finished with value: 0.913644847372918 and parameters: {'n_estimators': 200, 'max_depth': 15, 'learning_rate': 0.0961864381886759, 'subsample': 0.8431951258174523, 'colsample_bytree': 0.513094674517459, 'reg_lambda': 0.0017352310155592035, 'reg_alpha': 0.00406236779806991, 'gamma': 0.15648723443738255}. Best is trial 7 with value: 0.9145442327943304.\n",
            "[I 2025-03-07 05:16:07,736] Trial 13 finished with value: 0.9155264990982076 and parameters: {'n_estimators': 400, 'max_depth': 14, 'learning_rate': 0.05904301194853356, 'subsample': 0.8223185981915031, 'colsample_bytree': 0.7944859281609622, 'reg_lambda': 0.008870537281113382, 'reg_alpha': 0.004835554980996893, 'gamma': 0.0013980211565654686}. Best is trial 13 with value: 0.9155264990982076.\n",
            "[I 2025-03-07 05:16:21,970] Trial 14 finished with value: 0.9139764329687532 and parameters: {'n_estimators': 400, 'max_depth': 9, 'learning_rate': 0.05692955478156287, 'subsample': 0.7988660840691246, 'colsample_bytree': 0.797025585020878, 'reg_lambda': 0.008359425300959669, 'reg_alpha': 0.007521744853395813, 'gamma': 0.0014678803413300477}. Best is trial 13 with value: 0.9155264990982076.\n",
            "[I 2025-03-07 05:16:43,356] Trial 15 finished with value: 0.9111658672012618 and parameters: {'n_estimators': 400, 'max_depth': 13, 'learning_rate': 0.051153174479978504, 'subsample': 0.6612525267350919, 'colsample_bytree': 0.8943753403645445, 'reg_lambda': 0.005269300305757178, 'reg_alpha': 0.24333206419442716, 'gamma': 0.00321783700113913}. Best is trial 13 with value: 0.9155264990982076.\n",
            "[I 2025-03-07 05:17:00,842] Trial 16 finished with value: 0.9090194719334017 and parameters: {'n_estimators': 400, 'max_depth': 9, 'learning_rate': 0.023051057152463802, 'subsample': 0.7879082700789795, 'colsample_bytree': 0.7863424252004326, 'reg_lambda': 0.017209486741146824, 'reg_alpha': 0.009088849805916812, 'gamma': 0.0011323527358969366}. Best is trial 13 with value: 0.9155264990982076.\n",
            "[I 2025-03-07 05:17:08,028] Trial 17 finished with value: 0.900349569606054 and parameters: {'n_estimators': 100, 'max_depth': 13, 'learning_rate': 0.14764416704701266, 'subsample': 0.50111226122705, 'colsample_bytree': 0.9644258483607124, 'reg_lambda': 0.01827866174337788, 'reg_alpha': 0.5646178842970708, 'gamma': 0.0499223556652987}. Best is trial 13 with value: 0.9155264990982076.\n",
            "[I 2025-03-07 05:17:27,784] Trial 18 finished with value: 0.9146627570571427 and parameters: {'n_estimators': 500, 'max_depth': 11, 'learning_rate': 0.06365445422803445, 'subsample': 0.9047245442646673, 'colsample_bytree': 0.9993330878001578, 'reg_lambda': 0.0038310259474591633, 'reg_alpha': 0.009847890546430114, 'gamma': 0.004774221595513537}. Best is trial 13 with value: 0.9155264990982076.\n",
            "[I 2025-03-07 05:17:51,469] Trial 19 finished with value: 0.9168016324809306 and parameters: {'n_estimators': 500, 'max_depth': 11, 'learning_rate': 0.033470011602308065, 'subsample': 0.920815075954964, 'colsample_bytree': 0.6570828663719285, 'reg_lambda': 0.024755140324122182, 'reg_alpha': 0.0026549086831861653, 'gamma': 0.04507815351255087}. Best is trial 19 with value: 0.9168016324809306.\n",
            "[I 2025-03-07 05:18:05,263] Trial 20 finished with value: 0.9130116686573617 and parameters: {'n_estimators': 500, 'max_depth': 8, 'learning_rate': 0.03185056798635591, 'subsample': 0.9397706252904748, 'colsample_bytree': 0.6470069587289045, 'reg_lambda': 0.032929251828691226, 'reg_alpha': 0.0023910383466748935, 'gamma': 0.5967545312307035}. Best is trial 19 with value: 0.9168016324809306.\n",
            "[I 2025-03-07 05:18:33,945] Trial 21 finished with value: 0.9131175031985501 and parameters: {'n_estimators': 500, 'max_depth': 11, 'learning_rate': 0.01932279926992728, 'subsample': 0.8868217923464308, 'colsample_bytree': 0.6113003166361111, 'reg_lambda': 0.0043186660717491575, 'reg_alpha': 0.012055325195878984, 'gamma': 0.046950185245692416}. Best is trial 19 with value: 0.9168016324809306.\n",
            "[I 2025-03-07 05:18:56,486] Trial 22 finished with value: 0.916326196043741 and parameters: {'n_estimators': 600, 'max_depth': 10, 'learning_rate': 0.0365939320746861, 'subsample': 0.9228430141188598, 'colsample_bytree': 0.7531502038700617, 'reg_lambda': 0.13069781652959883, 'reg_alpha': 0.0026060581097701904, 'gamma': 0.04608659031821702}. Best is trial 19 with value: 0.9168016324809306.\n",
            "[I 2025-03-07 05:19:14,562] Trial 23 finished with value: 0.9067694275535507 and parameters: {'n_estimators': 600, 'max_depth': 10, 'learning_rate': 0.038621248886224625, 'subsample': 0.942039053745799, 'colsample_bytree': 0.7610371291444475, 'reg_lambda': 0.13226956959826325, 'reg_alpha': 7.634310610327441, 'gamma': 0.045374343202034144}. Best is trial 19 with value: 0.9168016324809306.\n",
            "[I 2025-03-07 05:19:30,200] Trial 24 finished with value: 0.9096975428715472 and parameters: {'n_estimators': 300, 'max_depth': 10, 'learning_rate': 0.025408931886044234, 'subsample': 0.9101680746863731, 'colsample_bytree': 0.6763570449171794, 'reg_lambda': 0.85606305220478, 'reg_alpha': 0.0022418032996637666, 'gamma': 0.42074573369853674}. Best is trial 19 with value: 0.9168016324809306.\n",
            "[I 2025-03-07 05:20:05,017] Trial 25 finished with value: 0.9150700399672107 and parameters: {'n_estimators': 600, 'max_depth': 12, 'learning_rate': 0.018420626882579377, 'subsample': 0.8385598290115923, 'colsample_bytree': 0.742835478734306, 'reg_lambda': 0.0166388003625288, 'reg_alpha': 0.00432857936837769, 'gamma': 0.03947127235463122}. Best is trial 19 with value: 0.9168016324809306.\n",
            "[I 2025-03-07 05:20:19,136] Trial 26 finished with value: 0.9127844039181838 and parameters: {'n_estimators': 700, 'max_depth': 8, 'learning_rate': 0.04342928929838038, 'subsample': 0.9571560236807035, 'colsample_bytree': 0.8190497610101398, 'reg_lambda': 0.07206656055366115, 'reg_alpha': 0.001347801575938058, 'gamma': 0.39912694505413077}. Best is trial 19 with value: 0.9168016324809306.\n",
            "[I 2025-03-07 05:20:30,297] Trial 27 finished with value: 0.9064136434530174 and parameters: {'n_estimators': 300, 'max_depth': 14, 'learning_rate': 0.036176596348247825, 'subsample': 0.7774579703837857, 'colsample_bytree': 0.5843099870599583, 'reg_lambda': 0.025064770645475944, 'reg_alpha': 0.002554732672915841, 'gamma': 2.0027848144515077}. Best is trial 19 with value: 0.9168016324809306.\n",
            "[I 2025-03-07 05:20:37,010] Trial 28 finished with value: 0.8971776673825899 and parameters: {'n_estimators': 500, 'max_depth': 4, 'learning_rate': 0.06357744516851516, 'subsample': 0.8753934797205029, 'colsample_bytree': 0.713193028357506, 'reg_lambda': 0.12147148493641237, 'reg_alpha': 0.01568722674069706, 'gamma': 0.08036031238428085}. Best is trial 19 with value: 0.9168016324809306.\n",
            "[I 2025-03-07 05:20:50,342] Trial 29 finished with value: 0.914216475634593 and parameters: {'n_estimators': 700, 'max_depth': 10, 'learning_rate': 0.14675806909263633, 'subsample': 0.9688188966276543, 'colsample_bytree': 0.65281461544989, 'reg_lambda': 0.2959344383644714, 'reg_alpha': 0.09902615520909407, 'gamma': 0.024897475808419892}. Best is trial 19 with value: 0.9168016324809306.\n",
            "[I 2025-03-07 05:21:11,001] Trial 30 finished with value: 0.9150902798368248 and parameters: {'n_estimators': 400, 'max_depth': 12, 'learning_rate': 0.04948489879168609, 'subsample': 0.9091513300012537, 'colsample_bytree': 0.7724677022105478, 'reg_lambda': 0.7916689712013155, 'reg_alpha': 0.004745358093205656, 'gamma': 0.007833005664919127}. Best is trial 19 with value: 0.9168016324809306.\n",
            "[I 2025-03-07 05:21:32,608] Trial 31 finished with value: 0.9160053086144139 and parameters: {'n_estimators': 400, 'max_depth': 12, 'learning_rate': 0.04455369789456752, 'subsample': 0.9057625292585997, 'colsample_bytree': 0.7716438786556231, 'reg_lambda': 0.8959554991535147, 'reg_alpha': 0.005900317917414275, 'gamma': 0.006394860683084904}. Best is trial 19 with value: 0.9168016324809306.\n",
            "[I 2025-03-07 05:22:06,726] Trial 32 finished with value: 0.9152357326719865 and parameters: {'n_estimators': 600, 'max_depth': 14, 'learning_rate': 0.030459225526001697, 'subsample': 0.8658719850641975, 'colsample_bytree': 0.8357832758893258, 'reg_lambda': 0.8922900737922738, 'reg_alpha': 0.0010249300221746387, 'gamma': 0.002008617151734692}. Best is trial 19 with value: 0.9168016324809306.\n",
            "[I 2025-03-07 05:22:26,444] Trial 33 finished with value: 0.9159680549800449 and parameters: {'n_estimators': 400, 'max_depth': 12, 'learning_rate': 0.07316830628900353, 'subsample': 0.8287365446607868, 'colsample_bytree': 0.801572796291907, 'reg_lambda': 1.836307788154907, 'reg_alpha': 0.02065401898640549, 'gamma': 0.0050502574932228565}. Best is trial 19 with value: 0.9168016324809306.\n",
            "[I 2025-03-07 05:22:48,197] Trial 34 finished with value: 0.9151647383454341 and parameters: {'n_estimators': 500, 'max_depth': 12, 'learning_rate': 0.07816138171347306, 'subsample': 0.7626586348656528, 'colsample_bytree': 0.727678663722705, 'reg_lambda': 1.7665497034949629, 'reg_alpha': 0.0709434881078186, 'gamma': 0.022243328726056485}. Best is trial 19 with value: 0.9168016324809306.\n",
            "[I 2025-03-07 05:23:03,242] Trial 35 finished with value: 0.9113036261023015 and parameters: {'n_estimators': 300, 'max_depth': 10, 'learning_rate': 0.03831484133036445, 'subsample': 0.9241355055125475, 'colsample_bytree': 0.8595906752072011, 'reg_lambda': 0.43656076298492547, 'reg_alpha': 0.0206613351509024, 'gamma': 0.006283584073912217}. Best is trial 19 with value: 0.9168016324809306.\n",
            "[I 2025-03-07 05:23:23,833] Trial 36 finished with value: 0.9038640669212507 and parameters: {'n_estimators': 600, 'max_depth': 8, 'learning_rate': 0.01719403920653933, 'subsample': 0.8819131440309317, 'colsample_bytree': 0.6863368631095983, 'reg_lambda': 9.954334606214918, 'reg_alpha': 0.006364624495911239, 'gamma': 0.02387154439100047}. Best is trial 19 with value: 0.9168016324809306.\n",
            "[I 2025-03-07 05:24:00,567] Trial 37 finished with value: 0.9158924663596067 and parameters: {'n_estimators': 800, 'max_depth': 11, 'learning_rate': 0.024485829071581502, 'subsample': 0.9643453509846291, 'colsample_bytree': 0.8142801078890944, 'reg_lambda': 1.1725349213001104, 'reg_alpha': 0.01795450306307657, 'gamma': 0.08528196674608232}. Best is trial 19 with value: 0.9168016324809306.\n",
            "[I 2025-03-07 05:24:21,105] Trial 38 finished with value: 0.9164195624753205 and parameters: {'n_estimators': 400, 'max_depth': 13, 'learning_rate': 0.07350821741316509, 'subsample': 0.8586651488612699, 'colsample_bytree': 0.7560208748218399, 'reg_lambda': 2.2638468915538312, 'reg_alpha': 0.04806485963190674, 'gamma': 0.0032908509094110574}. Best is trial 19 with value: 0.9168016324809306.\n",
            "[I 2025-03-07 05:24:52,290] Trial 39 finished with value: 0.9128513580977385 and parameters: {'n_estimators': 700, 'max_depth': 13, 'learning_rate': 0.046554841773721274, 'subsample': 0.6840190229159974, 'colsample_bytree': 0.7523910181493498, 'reg_lambda': 0.500353546336455, 'reg_alpha': 0.19756512260422324, 'gamma': 0.011140968740425044}. Best is trial 19 with value: 0.9168016324809306.\n",
            "[I 2025-03-07 05:25:02,614] Trial 40 finished with value: 0.9131178384685 and parameters: {'n_estimators': 300, 'max_depth': 9, 'learning_rate': 0.1294224852040488, 'subsample': 0.8589457364116215, 'colsample_bytree': 0.6114509613369318, 'reg_lambda': 0.22178016055490155, 'reg_alpha': 0.05037065236519475, 'gamma': 0.0029397631926708673}. Best is trial 19 with value: 0.9168016324809306.\n",
            "[I 2025-03-07 05:25:22,596] Trial 41 finished with value: 0.9154254708079161 and parameters: {'n_estimators': 400, 'max_depth': 12, 'learning_rate': 0.07525331024971917, 'subsample': 0.8943828481736373, 'colsample_bytree': 0.7125656709647408, 'reg_lambda': 2.6749209179881905, 'reg_alpha': 0.029272562815231325, 'gamma': 0.004081078276035053}. Best is trial 19 with value: 0.9168016324809306.\n",
            "[I 2025-03-07 05:25:44,473] Trial 42 finished with value: 0.9152983225973769 and parameters: {'n_estimators': 500, 'max_depth': 11, 'learning_rate': 0.06871146918736713, 'subsample': 0.8242496548956195, 'colsample_bytree': 0.8453428661292116, 'reg_lambda': 3.1659688892048754, 'reg_alpha': 0.002442670289487523, 'gamma': 0.016174315529924446}. Best is trial 19 with value: 0.9168016324809306.\n",
            "[I 2025-03-07 05:26:09,893] Trial 43 finished with value: 0.9138149440771492 and parameters: {'n_estimators': 400, 'max_depth': 13, 'learning_rate': 0.03321092473159029, 'subsample': 0.9288225963754023, 'colsample_bytree': 0.7772980289589584, 'reg_lambda': 1.6356183201358074, 'reg_alpha': 0.0017879896078124968, 'gamma': 0.00781917795942549}. Best is trial 19 with value: 0.9168016324809306.\n",
            "[I 2025-03-07 05:26:33,391] Trial 44 finished with value: 0.9180049826968496 and parameters: {'n_estimators': 500, 'max_depth': 12, 'learning_rate': 0.04379330887502582, 'subsample': 0.8473164951452741, 'colsample_bytree': 0.735429281150571, 'reg_lambda': 0.06536012699904682, 'reg_alpha': 0.04317455332697521, 'gamma': 0.0019380223711680065}. Best is trial 44 with value: 0.9180049826968496.\n",
            "[I 2025-03-07 05:27:00,178] Trial 45 finished with value: 0.9135195560412706 and parameters: {'n_estimators': 600, 'max_depth': 10, 'learning_rate': 0.04337211083489148, 'subsample': 0.8606276315653943, 'colsample_bytree': 0.7293559269147415, 'reg_lambda': 5.6849311125008315, 'reg_alpha': 0.2163170130608789, 'gamma': 0.0019506053604365855}. Best is trial 44 with value: 0.9180049826968496.\n",
            "[I 2025-03-07 05:27:29,667] Trial 46 finished with value: 0.9135914898943922 and parameters: {'n_estimators': 500, 'max_depth': 13, 'learning_rate': 0.028837694041356523, 'subsample': 0.7402977429404702, 'colsample_bytree': 0.6530097379928103, 'reg_lambda': 0.05365281005961954, 'reg_alpha': 0.39115856760163764, 'gamma': 0.0010238496862655124}. Best is trial 44 with value: 0.9180049826968496.\n",
            "[I 2025-03-07 05:28:32,962] Trial 47 finished with value: 0.9134725555765751 and parameters: {'n_estimators': 900, 'max_depth': 14, 'learning_rate': 0.010082711612466086, 'subsample': 0.9764978429625985, 'colsample_bytree': 0.6888083087776414, 'reg_lambda': 0.038916240991628395, 'reg_alpha': 0.04968295650818097, 'gamma': 0.0020586203206390576}. Best is trial 44 with value: 0.9180049826968496.\n",
            "[I 2025-03-07 05:28:57,016] Trial 48 finished with value: 0.9161511977030241 and parameters: {'n_estimators': 600, 'max_depth': 11, 'learning_rate': 0.055445943535733296, 'subsample': 0.8051869839610836, 'colsample_bytree': 0.7623309310333757, 'reg_lambda': 0.16652679299076903, 'reg_alpha': 0.12306002039194434, 'gamma': 0.0036053439431472504}. Best is trial 44 with value: 0.9180049826968496.\n",
            "[I 2025-03-07 05:29:04,916] Trial 49 finished with value: 0.8917027911828523 and parameters: {'n_estimators': 800, 'max_depth': 3, 'learning_rate': 0.05533401558130608, 'subsample': 0.8035379093325955, 'colsample_bytree': 0.7491434181260995, 'reg_lambda': 0.08519148476398725, 'reg_alpha': 0.639167923481643, 'gamma': 0.22127071372930734}. Best is trial 44 with value: 0.9180049826968496.\n",
            "[I 2025-03-07 05:29:25,785] Trial 50 finished with value: 0.9119671466259807 and parameters: {'n_estimators': 700, 'max_depth': 11, 'learning_rate': 0.11172141301469962, 'subsample': 0.7135144706282269, 'colsample_bytree': 0.5741672037828047, 'reg_lambda': 0.19429757185363905, 'reg_alpha': 0.13380128825573417, 'gamma': 0.003569821416099586}. Best is trial 44 with value: 0.9180049826968496.\n",
            "[I 2025-03-07 05:29:46,895] Trial 51 finished with value: 0.9142424636459994 and parameters: {'n_estimators': 600, 'max_depth': 12, 'learning_rate': 0.08590703126773074, 'subsample': 0.8451582864694711, 'colsample_bytree': 0.7619644303919179, 'reg_lambda': 0.05590416806494752, 'reg_alpha': 0.08024695964140387, 'gamma': 0.008598220447407875}. Best is trial 44 with value: 0.9180049826968496.\n",
            "[I 2025-03-07 05:30:06,410] Trial 52 finished with value: 0.9159258876933609 and parameters: {'n_estimators': 500, 'max_depth': 10, 'learning_rate': 0.04192993002872897, 'subsample': 0.9202725676597141, 'colsample_bytree': 0.7115329180211704, 'reg_lambda': 0.14450389516657347, 'reg_alpha': 0.006206203238412017, 'gamma': 0.013784945475404991}. Best is trial 44 with value: 0.9180049826968496.\n",
            "[I 2025-03-07 05:30:27,626] Trial 53 finished with value: 0.9171552451823478 and parameters: {'n_estimators': 500, 'max_depth': 11, 'learning_rate': 0.05298562465986155, 'subsample': 0.8877994534825048, 'colsample_bytree': 0.7339680525050376, 'reg_lambda': 0.3521737656695586, 'reg_alpha': 0.037078225294234914, 'gamma': 0.002703046515516041}. Best is trial 44 with value: 0.9180049826968496.\n",
            "[I 2025-03-07 05:30:46,673] Trial 54 finished with value: 0.9157451468959348 and parameters: {'n_estimators': 600, 'max_depth': 9, 'learning_rate': 0.05412394923339007, 'subsample': 0.8098121037279004, 'colsample_bytree': 0.6739817229449085, 'reg_lambda': 0.2828480925110435, 'reg_alpha': 0.03779982251072285, 'gamma': 0.0023663096706413467}. Best is trial 44 with value: 0.9180049826968496.\n",
            "[I 2025-03-07 05:31:11,119] Trial 55 finished with value: 0.9152091367642733 and parameters: {'n_estimators': 500, 'max_depth': 11, 'learning_rate': 0.03401944108809742, 'subsample': 0.7691301988678124, 'colsample_bytree': 0.7329421588722348, 'reg_lambda': 0.028076627882711657, 'reg_alpha': 0.1575640073493152, 'gamma': 0.0017206648158210977}. Best is trial 44 with value: 0.9180049826968496.\n",
            "[I 2025-03-07 05:31:39,888] Trial 56 finished with value: 0.9153658926558806 and parameters: {'n_estimators': 600, 'max_depth': 11, 'learning_rate': 0.02715308291536181, 'subsample': 0.9483628317730882, 'colsample_bytree': 0.7051479022000212, 'reg_lambda': 0.10205668409509105, 'reg_alpha': 0.06900091208202266, 'gamma': 0.0029748067605371623}. Best is trial 44 with value: 0.9180049826968496.\n",
            "[I 2025-03-07 05:32:12,948] Trial 57 finished with value: 0.9133099868119506 and parameters: {'n_estimators': 500, 'max_depth': 13, 'learning_rate': 0.02091251616866587, 'subsample': 0.8910386742918841, 'colsample_bytree': 0.6317772543060695, 'reg_lambda': 0.06779130192587612, 'reg_alpha': 0.35746275315787435, 'gamma': 0.001207784371003631}. Best is trial 44 with value: 0.9180049826968496.\n",
            "[I 2025-03-07 05:32:21,879] Trial 58 finished with value: 0.9049128112187368 and parameters: {'n_estimators': 700, 'max_depth': 7, 'learning_rate': 0.0647669676812746, 'subsample': 0.8557213978470537, 'colsample_bytree': 0.8059203257112952, 'reg_lambda': 0.5374866098887092, 'reg_alpha': 1.2149908285255502, 'gamma': 1.4688964911382496}. Best is trial 44 with value: 0.9180049826968496.\n",
            "[I 2025-03-07 05:32:38,942] Trial 59 finished with value: 0.9155626349734891 and parameters: {'n_estimators': 500, 'max_depth': 9, 'learning_rate': 0.04992229404555586, 'subsample': 0.8777272639163209, 'colsample_bytree': 0.7870275290224586, 'reg_lambda': 0.039861360702832124, 'reg_alpha': 0.03906665384365356, 'gamma': 0.0014832250465690788}. Best is trial 44 with value: 0.9180049826968496.\n",
            "[I 2025-03-07 05:32:51,622] Trial 60 finished with value: 0.9045432985951176 and parameters: {'n_estimators': 700, 'max_depth': 10, 'learning_rate': 0.058861891429596615, 'subsample': 0.9833167432192818, 'colsample_bytree': 0.6986895776508123, 'reg_lambda': 0.15003925133003884, 'reg_alpha': 8.578517179070785, 'gamma': 0.1168867084146206}. Best is trial 44 with value: 0.9180049826968496.\n",
            "[I 2025-03-07 05:33:13,159] Trial 61 finished with value: 0.9142191071790592 and parameters: {'n_estimators': 400, 'max_depth': 12, 'learning_rate': 0.040027550849771464, 'subsample': 0.7896536615625283, 'colsample_bytree': 0.766982096030323, 'reg_lambda': 0.3380211878147139, 'reg_alpha': 0.01229543300083335, 'gamma': 0.006240885594417063}. Best is trial 44 with value: 0.9180049826968496.\n",
            "[I 2025-03-07 05:33:32,150] Trial 62 finished with value: 0.914768897854108 and parameters: {'n_estimators': 400, 'max_depth': 11, 'learning_rate': 0.04561191717584805, 'subsample': 0.9002610556478283, 'colsample_bytree': 0.7416318172415537, 'reg_lambda': 0.23997276820597552, 'reg_alpha': 0.0033734382814216636, 'gamma': 0.035096477011552885}. Best is trial 44 with value: 0.9180049826968496.\n",
            "[I 2025-03-07 05:33:47,277] Trial 63 finished with value: 0.9147310989345083 and parameters: {'n_estimators': 300, 'max_depth': 12, 'learning_rate': 0.08716968655668322, 'subsample': 0.8403444194985639, 'colsample_bytree': 0.7841902922358226, 'reg_lambda': 0.6530651790449649, 'reg_alpha': 0.11166419450615764, 'gamma': 0.003403088443928183}. Best is trial 44 with value: 0.9180049826968496.\n",
            "[I 2025-03-07 05:34:17,587] Trial 64 finished with value: 0.9164682015185537 and parameters: {'n_estimators': 600, 'max_depth': 13, 'learning_rate': 0.03617519497261988, 'subsample': 0.9116077052801941, 'colsample_bytree': 0.7237023958772454, 'reg_lambda': 1.1128493396287025, 'reg_alpha': 0.024895377326862006, 'gamma': 0.061312265256434836}. Best is trial 44 with value: 0.9180049826968496.\n",
            "[I 2025-03-07 05:34:43,019] Trial 65 finished with value: 0.9156062467531264 and parameters: {'n_estimators': 600, 'max_depth': 14, 'learning_rate': 0.05145682408914747, 'subsample': 0.9309872984238065, 'colsample_bytree': 0.6675443713264363, 'reg_lambda': 0.015284391641666948, 'reg_alpha': 0.024899907463406142, 'gamma': 0.03386416230243558}. Best is trial 44 with value: 0.9180049826968496.\n",
            "[I 2025-03-07 05:35:11,754] Trial 66 finished with value: 0.9133643600920349 and parameters: {'n_estimators': 600, 'max_depth': 13, 'learning_rate': 0.0353020230378206, 'subsample': 0.6010312016005779, 'colsample_bytree': 0.7300515605586015, 'reg_lambda': 0.011538542786895091, 'reg_alpha': 0.0648325087282525, 'gamma': 0.05938176110608595}. Best is trial 44 with value: 0.9180049826968496.\n",
            "[I 2025-03-07 05:35:42,617] Trial 67 finished with value: 0.9142222486353747 and parameters: {'n_estimators': 500, 'max_depth': 15, 'learning_rate': 0.03645294226071405, 'subsample': 0.8737464318173429, 'colsample_bytree': 0.8295976254778789, 'reg_lambda': 1.2744444936227324, 'reg_alpha': 0.09420665774854044, 'gamma': 0.004337551617555011}. Best is trial 44 with value: 0.9180049826968496.\n",
            "[I 2025-03-07 05:36:06,932] Trial 68 finished with value: 0.9168663003318818 and parameters: {'n_estimators': 600, 'max_depth': 10, 'learning_rate': 0.02818552619023443, 'subsample': 0.953113877684798, 'colsample_bytree': 0.6340528936221692, 'reg_lambda': 0.09936664456666508, 'reg_alpha': 0.012607878358396803, 'gamma': 0.06710532261414925}. Best is trial 44 with value: 0.9180049826968496.\n",
            "[I 2025-03-07 05:36:30,008] Trial 69 finished with value: 0.9136280408707297 and parameters: {'n_estimators': 500, 'max_depth': 10, 'learning_rate': 0.02252350525313073, 'subsample': 0.9507885830269242, 'colsample_bytree': 0.6366903123310033, 'reg_lambda': 0.024261338685544975, 'reg_alpha': 0.013309123605582977, 'gamma': 0.2094240353346271}. Best is trial 44 with value: 0.9180049826968496.\n",
            "[I 2025-03-07 05:36:38,656] Trial 70 finished with value: 0.9108723085836739 and parameters: {'n_estimators': 600, 'max_depth': 9, 'learning_rate': 0.2887461779633882, 'subsample': 0.9898169310958087, 'colsample_bytree': 0.58908340695163, 'reg_lambda': 0.0871663365754658, 'reg_alpha': 0.00996603736466743, 'gamma': 0.06463206558820031}. Best is trial 44 with value: 0.9180049826968496.\n",
            "[I 2025-03-07 05:37:05,912] Trial 71 finished with value: 0.915112170900751 and parameters: {'n_estimators': 600, 'max_depth': 11, 'learning_rate': 0.030558334678578332, 'subsample': 0.9178517238071351, 'colsample_bytree': 0.7201551659897489, 'reg_lambda': 0.12160344285361097, 'reg_alpha': 0.03142841583639392, 'gamma': 0.09952287104798042}. Best is trial 44 with value: 0.9180049826968496.\n",
            "[I 2025-03-07 05:37:34,142] Trial 72 finished with value: 0.9156515105737109 and parameters: {'n_estimators': 700, 'max_depth': 10, 'learning_rate': 0.026094299026180535, 'subsample': 0.9372996942167694, 'colsample_bytree': 0.6593478098990249, 'reg_lambda': 0.17151217650706008, 'reg_alpha': 0.0032195235887773287, 'gamma': 0.018845321352321816}. Best is trial 44 with value: 0.9180049826968496.\n",
            "[I 2025-03-07 05:37:39,881] Trial 73 finished with value: 0.8867799248052186 and parameters: {'n_estimators': 500, 'max_depth': 11, 'learning_rate': 0.2021941408493417, 'subsample': 0.8299784262722751, 'colsample_bytree': 0.6967696464828256, 'reg_lambda': 0.3526939152178967, 'reg_alpha': 0.05441649193566764, 'gamma': 6.804763791007027}. Best is trial 44 with value: 0.9180049826968496.\n",
            "[I 2025-03-07 05:38:08,218] Trial 74 finished with value: 0.9152414779616527 and parameters: {'n_estimators': 600, 'max_depth': 12, 'learning_rate': 0.03902291875683102, 'subsample': 0.9615324304545326, 'colsample_bytree': 0.7555376332521823, 'reg_lambda': 4.525811254410939, 'reg_alpha': 0.00172046314348752, 'gamma': 0.14142803244135344}. Best is trial 44 with value: 0.9180049826968496.\n",
            "[I 2025-03-07 05:38:36,560] Trial 75 finished with value: 0.915598319094466 and parameters: {'n_estimators': 500, 'max_depth': 13, 'learning_rate': 0.028420846938574634, 'subsample': 0.8938901874477825, 'colsample_bytree': 0.5546019720557743, 'reg_lambda': 0.06611323635385416, 'reg_alpha': 0.02103919262846812, 'gamma': 0.027504756389171485}. Best is trial 44 with value: 0.9180049826968496.\n",
            "[I 2025-03-07 05:39:10,130] Trial 76 finished with value: 0.913660521355547 and parameters: {'n_estimators': 600, 'max_depth': 11, 'learning_rate': 0.016197303828075108, 'subsample': 0.911806677510323, 'colsample_bytree': 0.6259460154578068, 'reg_lambda': 0.10410053672131193, 'reg_alpha': 0.008072677141171766, 'gamma': 0.042343856913717115}. Best is trial 44 with value: 0.9180049826968496.\n",
            "[I 2025-03-07 05:39:27,084] Trial 77 finished with value: 0.9150384822249897 and parameters: {'n_estimators': 500, 'max_depth': 10, 'learning_rate': 0.06175579829149593, 'subsample': 0.8741946905320357, 'colsample_bytree': 0.7427377420884235, 'reg_lambda': 0.042816982572562404, 'reg_alpha': 0.03178411656683926, 'gamma': 0.0674891755367368}. Best is trial 44 with value: 0.9180049826968496.\n",
            "[I 2025-03-07 05:39:55,989] Trial 78 finished with value: 0.9145392206940937 and parameters: {'n_estimators': 600, 'max_depth': 12, 'learning_rate': 0.031195946514659102, 'subsample': 0.8170351877945343, 'colsample_bytree': 0.6875982841940808, 'reg_lambda': 2.323269151144162, 'reg_alpha': 0.015099206177355893, 'gamma': 0.211428540202742}. Best is trial 44 with value: 0.9180049826968496.\n",
            "[I 2025-03-07 05:40:17,361] Trial 79 finished with value: 0.9141717774525707 and parameters: {'n_estimators': 1000, 'max_depth': 14, 'learning_rate': 0.04933069649725103, 'subsample': 0.8504985422661641, 'colsample_bytree': 0.6010291226705149, 'reg_lambda': 0.2165660119959726, 'reg_alpha': 0.04692670843835413, 'gamma': 0.37138057853827583}. Best is trial 44 with value: 0.9180049826968496.\n",
            "[I 2025-03-07 05:40:25,879] Trial 80 finished with value: 0.885496193202501 and parameters: {'n_estimators': 700, 'max_depth': 4, 'learning_rate': 0.023751476648244254, 'subsample': 0.9451110982290225, 'colsample_bytree': 0.643490191023613, 'reg_lambda': 1.303530084553058, 'reg_alpha': 0.148365224256442, 'gamma': 0.0024886325447995225}. Best is trial 44 with value: 0.9180049826968496.\n",
            "[I 2025-03-07 05:40:47,333] Trial 81 finished with value: 0.9148547760003127 and parameters: {'n_estimators': 400, 'max_depth': 12, 'learning_rate': 0.044894318380636844, 'subsample': 0.9065006179527975, 'colsample_bytree': 0.7695926356343378, 'reg_lambda': 1.0288204795923954, 'reg_alpha': 0.005395873188430678, 'gamma': 0.005563261885529311}. Best is trial 44 with value: 0.9180049826968496.\n",
            "[I 2025-03-07 05:41:10,334] Trial 82 finished with value: 0.9143068212799939 and parameters: {'n_estimators': 400, 'max_depth': 13, 'learning_rate': 0.039962153063396594, 'subsample': 0.890458396148053, 'colsample_bytree': 0.7918472697291697, 'reg_lambda': 0.5648498591184848, 'reg_alpha': 0.024896374372525603, 'gamma': 0.052447587402587044}. Best is trial 44 with value: 0.9180049826968496.\n",
            "[I 2025-03-07 05:41:33,150] Trial 83 finished with value: 0.9141633421776871 and parameters: {'n_estimators': 400, 'max_depth': 12, 'learning_rate': 0.03496950824999072, 'subsample': 0.866979162734024, 'colsample_bytree': 0.7753457842010558, 'reg_lambda': 0.7067822426468042, 'reg_alpha': 0.0018374003936017847, 'gamma': 0.0015548933686153352}. Best is trial 44 with value: 0.9180049826968496.\n",
            "[I 2025-03-07 05:41:54,064] Trial 84 finished with value: 0.9148909524911735 and parameters: {'n_estimators': 500, 'max_depth': 11, 'learning_rate': 0.05731881085973397, 'subsample': 0.9219714979344845, 'colsample_bytree': 0.810138521371167, 'reg_lambda': 0.4234374870642518, 'reg_alpha': 0.010242867110858239, 'gamma': 0.009757811298979721}. Best is trial 44 with value: 0.9180049826968496.\n",
            "[I 2025-03-07 05:42:13,090] Trial 85 finished with value: 0.9160412505498765 and parameters: {'n_estimators': 400, 'max_depth': 11, 'learning_rate': 0.046512656050197616, 'subsample': 0.9327519049541616, 'colsample_bytree': 0.7200777493679882, 'reg_lambda': 0.0025010513326771647, 'reg_alpha': 0.006999700828600271, 'gamma': 0.0039765567279237465}. Best is trial 44 with value: 0.9180049826968496.\n",
            "[I 2025-03-07 05:42:24,505] Trial 86 finished with value: 0.9124118776206631 and parameters: {'n_estimators': 300, 'max_depth': 9, 'learning_rate': 0.0697893509855744, 'subsample': 0.9703696098012405, 'colsample_bytree': 0.7202128563468148, 'reg_lambda': 0.002343611099317265, 'reg_alpha': 0.007371170484468322, 'gamma': 0.03061931641194607}. Best is trial 44 with value: 0.9180049826968496.\n",
            "[I 2025-03-07 05:42:46,153] Trial 87 finished with value: 0.914250000358674 and parameters: {'n_estimators': 600, 'max_depth': 10, 'learning_rate': 0.04740975921837923, 'subsample': 0.9367941852373601, 'colsample_bytree': 0.7388549268951106, 'reg_lambda': 0.00198565721090796, 'reg_alpha': 0.017169112011257884, 'gamma': 0.002617656572859208}. Best is trial 44 with value: 0.9180049826968496.\n",
            "[I 2025-03-07 05:43:04,269] Trial 88 finished with value: 0.90223520913875 and parameters: {'n_estimators': 500, 'max_depth': 11, 'learning_rate': 0.053349568408240365, 'subsample': 0.5022293333226024, 'colsample_bytree': 0.6667344017276864, 'reg_lambda': 0.003383089865234714, 'reg_alpha': 5.488322401883913, 'gamma': 0.003822914945481711}. Best is trial 44 with value: 0.9180049826968496.\n",
            "[I 2025-03-07 05:43:25,513] Trial 89 finished with value: 0.9130955124481159 and parameters: {'n_estimators': 400, 'max_depth': 11, 'learning_rate': 0.03278606536937769, 'subsample': 0.7921272103090206, 'colsample_bytree': 0.7469258690250437, 'reg_lambda': 0.16022456996721532, 'reg_alpha': 0.08423648688493446, 'gamma': 0.019133250808858922}. Best is trial 44 with value: 0.9180049826968496.\n",
            "[I 2025-03-07 05:43:32,953] Trial 90 finished with value: 0.9115021232328597 and parameters: {'n_estimators': 200, 'max_depth': 8, 'learning_rate': 0.07979237349049177, 'subsample': 0.9998172834512123, 'colsample_bytree': 0.7211886658691813, 'reg_lambda': 0.24850708027798202, 'reg_alpha': 0.0028040831358908933, 'gamma': 0.0783791574257622}. Best is trial 44 with value: 0.9180049826968496.\n",
            "[I 2025-03-07 05:43:55,475] Trial 91 finished with value: 0.9136717317378057 and parameters: {'n_estimators': 400, 'max_depth': 12, 'learning_rate': 0.043339993456634245, 'subsample': 0.9047204243346043, 'colsample_bytree': 0.756979951745455, 'reg_lambda': 1.986273707564657, 'reg_alpha': 0.005409264031665787, 'gamma': 0.007333608017826907}. Best is trial 44 with value: 0.9180049826968496.\n",
            "[I 2025-03-07 05:44:15,560] Trial 92 finished with value: 0.9149484830777803 and parameters: {'n_estimators': 500, 'max_depth': 10, 'learning_rate': 0.036763264082170594, 'subsample': 0.9579037841023325, 'colsample_bytree': 0.707095225737588, 'reg_lambda': 0.007337113093236084, 'reg_alpha': 0.03678115536556341, 'gamma': 0.004825948606703666}. Best is trial 44 with value: 0.9180049826968496.\n",
            "[I 2025-03-07 05:44:33,537] Trial 93 finished with value: 0.913162200485895 and parameters: {'n_estimators': 300, 'max_depth': 11, 'learning_rate': 0.04188830629820659, 'subsample': 0.8831283556710896, 'colsample_bytree': 0.7773939729217751, 'reg_lambda': 3.680392511247742, 'reg_alpha': 0.0214084820730511, 'gamma': 0.0020939160186983236}. Best is trial 44 with value: 0.9180049826968496.\n",
            "[I 2025-03-07 05:44:52,327] Trial 94 finished with value: 0.9162175041939407 and parameters: {'n_estimators': 400, 'max_depth': 13, 'learning_rate': 0.0633119062077442, 'subsample': 0.9270753238511508, 'colsample_bytree': 0.7661964579739471, 'reg_lambda': 0.005095601932612958, 'reg_alpha': 0.003737839816752836, 'gamma': 0.010852795295326}. Best is trial 44 with value: 0.9180049826968496.\n",
            "[I 2025-03-07 05:45:15,560] Trial 95 finished with value: 0.9162387362930631 and parameters: {'n_estimators': 600, 'max_depth': 13, 'learning_rate': 0.06562939375895856, 'subsample': 0.9250434815192284, 'colsample_bytree': 0.7617601827214531, 'reg_lambda': 0.001247423867623037, 'reg_alpha': 0.004072923007973344, 'gamma': 0.0026955170453973553}. Best is trial 44 with value: 0.9180049826968496.\n",
            "[I 2025-03-07 05:45:33,839] Trial 96 finished with value: 0.9149569920967242 and parameters: {'n_estimators': 600, 'max_depth': 14, 'learning_rate': 0.06447204810834521, 'subsample': 0.9169426389265889, 'colsample_bytree': 0.8003871344366543, 'reg_lambda': 0.012411010806619483, 'reg_alpha': 0.004092255867324675, 'gamma': 0.11160760087983398}. Best is trial 44 with value: 0.9180049826968496.\n",
            "[I 2025-03-07 05:45:58,503] Trial 97 finished with value: 0.9179735941793175 and parameters: {'n_estimators': 700, 'max_depth': 13, 'learning_rate': 0.07146338134947629, 'subsample': 0.9784533425759422, 'colsample_bytree': 0.7615832273257486, 'reg_lambda': 0.005048341767352304, 'reg_alpha': 0.003635379736078038, 'gamma': 0.0120705592234139}. Best is trial 44 with value: 0.9180049826968496.\n",
            "[I 2025-03-07 05:46:19,919] Trial 98 finished with value: 0.9144949497170275 and parameters: {'n_estimators': 800, 'max_depth': 13, 'learning_rate': 0.10869869140232331, 'subsample': 0.9696075358771526, 'colsample_bytree': 0.8192593705605603, 'reg_lambda': 0.005707493329301597, 'reg_alpha': 0.002075209836148882, 'gamma': 0.011872357552439396}. Best is trial 44 with value: 0.9180049826968496.\n",
            "[I 2025-03-07 05:46:46,900] Trial 99 finished with value: 0.9171576457276996 and parameters: {'n_estimators': 700, 'max_depth': 15, 'learning_rate': 0.08334637874498507, 'subsample': 0.9514365291922827, 'colsample_bytree': 0.6968407480711292, 'reg_lambda': 0.0010456972095099085, 'reg_alpha': 0.0012355014585183632, 'gamma': 0.015481350269799623}. Best is trial 44 with value: 0.9180049826968496.\n",
            "[I 2025-03-07 05:47:09,912] Trial 100 finished with value: 0.913665648192446 and parameters: {'n_estimators': 800, 'max_depth': 14, 'learning_rate': 0.08573755951109106, 'subsample': 0.9869935753904993, 'colsample_bytree': 0.6779447778656538, 'reg_lambda': 0.0012958496766106457, 'reg_alpha': 0.0014201738654357038, 'gamma': 0.048793716228860404}. Best is trial 44 with value: 0.9180049826968496.\n",
            "[I 2025-03-07 05:47:35,240] Trial 101 finished with value: 0.9154785578523235 and parameters: {'n_estimators': 700, 'max_depth': 15, 'learning_rate': 0.09563852427483116, 'subsample': 0.9464606429954897, 'colsample_bytree': 0.7013834712604331, 'reg_lambda': 0.0010753367441040259, 'reg_alpha': 0.001001685849253326, 'gamma': 0.01539061865012942}. Best is trial 44 with value: 0.9180049826968496.\n",
            "[I 2025-03-07 05:47:57,867] Trial 102 finished with value: 0.9157981124960923 and parameters: {'n_estimators': 700, 'max_depth': 13, 'learning_rate': 0.07018099645595373, 'subsample': 0.977321104639977, 'colsample_bytree': 0.735813142611582, 'reg_lambda': 0.003293554690588785, 'reg_alpha': 0.002971697020852855, 'gamma': 0.02465987686274823}. Best is trial 44 with value: 0.9180049826968496.\n",
            "[I 2025-03-07 05:48:23,634] Trial 103 finished with value: 0.9159347997884503 and parameters: {'n_estimators': 700, 'max_depth': 14, 'learning_rate': 0.0804267904033407, 'subsample': 0.9523736331570213, 'colsample_bytree': 0.7520912593789243, 'reg_lambda': 0.0014077033872856959, 'reg_alpha': 0.003827634509175553, 'gamma': 0.019234496516318957}. Best is trial 44 with value: 0.9180049826968496.\n",
            "[I 2025-03-07 05:48:48,129] Trial 104 finished with value: 0.9162309190721594 and parameters: {'n_estimators': 700, 'max_depth': 13, 'learning_rate': 0.0731340550002377, 'subsample': 0.929816004502943, 'colsample_bytree': 0.7848991933831089, 'reg_lambda': 0.004430345617009409, 'reg_alpha': 0.002468783676932284, 'gamma': 0.009456721159089845}. Best is trial 44 with value: 0.9180049826968496.\n",
            "[I 2025-03-07 05:49:12,991] Trial 105 finished with value: 0.9147660553522663 and parameters: {'n_estimators': 800, 'max_depth': 15, 'learning_rate': 0.09106418821742093, 'subsample': 0.8987785330449356, 'colsample_bytree': 0.6199057779890002, 'reg_lambda': 0.0024542909372339762, 'reg_alpha': 0.0014016083686906207, 'gamma': 0.03907425250543331}. Best is trial 44 with value: 0.9180049826968496.\n",
            "[I 2025-03-07 05:49:37,544] Trial 106 finished with value: 0.916808974329445 and parameters: {'n_estimators': 700, 'max_depth': 13, 'learning_rate': 0.07389448775974866, 'subsample': 0.940247835855798, 'colsample_bytree': 0.6934293439917087, 'reg_lambda': 0.0017027584648716682, 'reg_alpha': 0.00224485772404764, 'gamma': 0.008767083723460096}. Best is trial 44 with value: 0.9180049826968496.\n",
            "[I 2025-03-07 05:50:00,383] Trial 107 finished with value: 0.9156164806499438 and parameters: {'n_estimators': 700, 'max_depth': 13, 'learning_rate': 0.10408115249178022, 'subsample': 0.9795875071407649, 'colsample_bytree': 0.6927962800638369, 'reg_lambda': 0.0017132575719485926, 'reg_alpha': 0.0011750021590018658, 'gamma': 0.001263927702428312}. Best is trial 44 with value: 0.9180049826968496.\n",
            "[I 2025-03-07 05:50:27,040] Trial 108 finished with value: 0.9172611547124243 and parameters: {'n_estimators': 800, 'max_depth': 12, 'learning_rate': 0.06763754565522222, 'subsample': 0.9587783334411877, 'colsample_bytree': 0.6604423668794298, 'reg_lambda': 0.001010364337753135, 'reg_alpha': 0.0021372137623731514, 'gamma': 0.0029376067146301486}. Best is trial 44 with value: 0.9180049826968496.\n",
            "[I 2025-03-07 05:50:49,210] Trial 109 finished with value: 0.9159912291004678 and parameters: {'n_estimators': 800, 'max_depth': 12, 'learning_rate': 0.1248237671753421, 'subsample': 0.9463182054618958, 'colsample_bytree': 0.6585101538807524, 'reg_lambda': 0.0010112409567324839, 'reg_alpha': 0.0015760618233283824, 'gamma': 0.001785396605407925}. Best is trial 44 with value: 0.9180049826968496.\n",
            "[I 2025-03-07 05:51:08,404] Trial 110 finished with value: 0.9157038581623371 and parameters: {'n_estimators': 800, 'max_depth': 14, 'learning_rate': 0.07624591059615993, 'subsample': 0.9540788880093708, 'colsample_bytree': 0.6789829576391103, 'reg_lambda': 0.00192186983620191, 'reg_alpha': 0.002069710718406518, 'gamma': 0.07775857080311592}. Best is trial 44 with value: 0.9180049826968496.\n",
            "[I 2025-03-07 05:51:38,111] Trial 111 finished with value: 0.9172975843036223 and parameters: {'n_estimators': 900, 'max_depth': 13, 'learning_rate': 0.06822760670573785, 'subsample': 0.9634863911433946, 'colsample_bytree': 0.6429146902873324, 'reg_lambda': 0.0012146102014459923, 'reg_alpha': 0.004676663252965416, 'gamma': 0.0029798757248822453}. Best is trial 44 with value: 0.9180049826968496.\n",
            "[I 2025-03-07 05:52:08,348] Trial 112 finished with value: 0.9174658474874395 and parameters: {'n_estimators': 900, 'max_depth': 12, 'learning_rate': 0.060383122158921436, 'subsample': 0.9627904291730068, 'colsample_bytree': 0.6662247591781161, 'reg_lambda': 0.0011230771567631594, 'reg_alpha': 0.004857101061660379, 'gamma': 0.0031343428258650517}. Best is trial 44 with value: 0.9180049826968496.\n",
            "[I 2025-03-07 05:52:36,777] Trial 113 finished with value: 0.9166903969663048 and parameters: {'n_estimators': 900, 'max_depth': 12, 'learning_rate': 0.06946767655057393, 'subsample': 0.9693316440388543, 'colsample_bytree': 0.6680857882663804, 'reg_lambda': 0.0015400247449870036, 'reg_alpha': 0.002945651672515827, 'gamma': 0.003167701423378693}. Best is trial 44 with value: 0.9180049826968496.\n",
            "[I 2025-03-07 05:53:05,347] Trial 114 finished with value: 0.9171347089544568 and parameters: {'n_estimators': 900, 'max_depth': 12, 'learning_rate': 0.06681382544007101, 'subsample': 0.9646323646819379, 'colsample_bytree': 0.6368254673389527, 'reg_lambda': 0.0011651272549909589, 'reg_alpha': 0.00494896756552795, 'gamma': 0.0022651795735188526}. Best is trial 44 with value: 0.9180049826968496.\n",
            "[I 2025-03-07 05:53:32,378] Trial 115 finished with value: 0.9154779743273533 and parameters: {'n_estimators': 900, 'max_depth': 12, 'learning_rate': 0.08149626518827402, 'subsample': 0.9657905680809831, 'colsample_bytree': 0.6480109349905612, 'reg_lambda': 0.0016156695127687475, 'reg_alpha': 0.00540839692099869, 'gamma': 0.005446820634685491}. Best is trial 44 with value: 0.9180049826968496.\n",
            "[I 2025-03-07 05:54:02,529] Trial 116 finished with value: 0.9172306624788685 and parameters: {'n_estimators': 900, 'max_depth': 12, 'learning_rate': 0.05898045477332356, 'subsample': 0.9946099205280329, 'colsample_bytree': 0.6338485144371245, 'reg_lambda': 0.0011532722861349483, 'reg_alpha': 0.004628670433781938, 'gamma': 0.003075562906468422}. Best is trial 44 with value: 0.9180049826968496.\n",
            "[I 2025-03-07 05:54:32,706] Trial 117 finished with value: 0.9177459729234588 and parameters: {'n_estimators': 900, 'max_depth': 12, 'learning_rate': 0.059580885604242, 'subsample': 0.9977685394725094, 'colsample_bytree': 0.6075148579793772, 'reg_lambda': 0.0011821544194404346, 'reg_alpha': 0.002396099862862147, 'gamma': 0.002418317760242358}. Best is trial 44 with value: 0.9180049826968496.\n",
            "[I 2025-03-07 05:55:04,448] Trial 118 finished with value: 0.918829468337061 and parameters: {'n_estimators': 1000, 'max_depth': 12, 'learning_rate': 0.05903748414530663, 'subsample': 0.9933448790513631, 'colsample_bytree': 0.6099929025214914, 'reg_lambda': 0.0011494284114202517, 'reg_alpha': 0.004631134271050321, 'gamma': 0.0015007082418685466}. Best is trial 118 with value: 0.918829468337061.\n",
            "[I 2025-03-07 05:55:36,309] Trial 119 finished with value: 0.9173776758060395 and parameters: {'n_estimators': 1000, 'max_depth': 12, 'learning_rate': 0.058573210218797946, 'subsample': 0.9909619910472035, 'colsample_bytree': 0.6021341926309917, 'reg_lambda': 0.0011730749905153807, 'reg_alpha': 0.009089143415329915, 'gamma': 0.0010738687938391081}. Best is trial 118 with value: 0.918829468337061.\n",
            "[I 2025-03-07 05:56:08,829] Trial 120 finished with value: 0.9165084690175564 and parameters: {'n_estimators': 1000, 'max_depth': 12, 'learning_rate': 0.057076814597712425, 'subsample': 0.9979438091706093, 'colsample_bytree': 0.6016479879345922, 'reg_lambda': 0.001069387580411783, 'reg_alpha': 0.008295787050849377, 'gamma': 0.0011372750060763535}. Best is trial 118 with value: 0.918829468337061.\n",
            "[I 2025-03-07 05:56:38,420] Trial 121 finished with value: 0.9177681886726667 and parameters: {'n_estimators': 900, 'max_depth': 12, 'learning_rate': 0.06071554225833915, 'subsample': 0.9896567319050859, 'colsample_bytree': 0.5731914393723128, 'reg_lambda': 0.0012505056465088274, 'reg_alpha': 0.004728218288285404, 'gamma': 0.002174816242922224}. Best is trial 118 with value: 0.918829468337061.\n",
            "[I 2025-03-07 05:57:08,490] Trial 122 finished with value: 0.9173800229963112 and parameters: {'n_estimators': 900, 'max_depth': 12, 'learning_rate': 0.05974836352834545, 'subsample': 0.9818793279641128, 'colsample_bytree': 0.5751140254705387, 'reg_lambda': 0.0012173448700579523, 'reg_alpha': 0.004611540060022871, 'gamma': 0.0014215553604936362}. Best is trial 118 with value: 0.918829468337061.\n",
            "[I 2025-03-07 05:57:38,298] Trial 123 finished with value: 0.9159456554116403 and parameters: {'n_estimators': 900, 'max_depth': 12, 'learning_rate': 0.06067077561948416, 'subsample': 0.9904005468141689, 'colsample_bytree': 0.5641027056658776, 'reg_lambda': 0.002107838317759311, 'reg_alpha': 0.004635015299033428, 'gamma': 0.0016084951001003643}. Best is trial 118 with value: 0.918829468337061.\n",
            "[I 2025-03-07 05:58:11,318] Trial 124 finished with value: 0.9164007164329121 and parameters: {'n_estimators': 1000, 'max_depth': 12, 'learning_rate': 0.05341876279368457, 'subsample': 0.9830641431936958, 'colsample_bytree': 0.5827606012709285, 'reg_lambda': 0.0027720737330141896, 'reg_alpha': 0.0033710589812662, 'gamma': 0.0010383453860557475}. Best is trial 118 with value: 0.918829468337061.\n",
            "[I 2025-03-07 05:58:43,045] Trial 125 finished with value: 0.917314405587813 and parameters: {'n_estimators': 1000, 'max_depth': 12, 'learning_rate': 0.05900078033087585, 'subsample': 0.993767001773531, 'colsample_bytree': 0.615460706285818, 'reg_lambda': 0.0013860473460178863, 'reg_alpha': 0.0062856328127795565, 'gamma': 0.0013485277595667773}. Best is trial 118 with value: 0.918829468337061.\n",
            "[I 2025-03-07 05:59:15,096] Trial 126 finished with value: 0.9169841598758162 and parameters: {'n_estimators': 1000, 'max_depth': 12, 'learning_rate': 0.05802443099632458, 'subsample': 0.9990418696289357, 'colsample_bytree': 0.5456609110602988, 'reg_lambda': 0.0013463653342752698, 'reg_alpha': 0.006348577016390404, 'gamma': 0.0013786679272512598}. Best is trial 118 with value: 0.918829468337061.\n",
            "[I 2025-03-07 05:59:44,330] Trial 127 finished with value: 0.9180561593850947 and parameters: {'n_estimators': 900, 'max_depth': 12, 'learning_rate': 0.06146120840538932, 'subsample': 0.9890571271859818, 'colsample_bytree': 0.6168827154163493, 'reg_lambda': 0.0014743161069981562, 'reg_alpha': 0.004539526427719287, 'gamma': 0.001922800574859384}. Best is trial 118 with value: 0.918829468337061.\n",
            "[I 2025-03-07 06:00:14,035] Trial 128 finished with value: 0.9158581442466083 and parameters: {'n_estimators': 900, 'max_depth': 12, 'learning_rate': 0.05931403468259219, 'subsample': 0.9885057324363092, 'colsample_bytree': 0.612705920970929, 'reg_lambda': 0.0014556736991830502, 'reg_alpha': 0.010218139302775904, 'gamma': 0.001972248278001965}. Best is trial 118 with value: 0.918829468337061.\n",
            "[I 2025-03-07 06:00:47,268] Trial 129 finished with value: 0.9176702531730017 and parameters: {'n_estimators': 1000, 'max_depth': 12, 'learning_rate': 0.049823193077185815, 'subsample': 0.9792616792974048, 'colsample_bytree': 0.5283129306112793, 'reg_lambda': 0.0019145510999764278, 'reg_alpha': 0.004469590757362943, 'gamma': 0.0013133239518275219}. Best is trial 118 with value: 0.918829468337061.\n",
            "[I 2025-03-07 06:01:20,720] Trial 130 finished with value: 0.9185276767113593 and parameters: {'n_estimators': 1000, 'max_depth': 12, 'learning_rate': 0.049247029182749785, 'subsample': 0.9778242472944404, 'colsample_bytree': 0.5183020866321774, 'reg_lambda': 0.001976695633246996, 'reg_alpha': 0.003441403143677047, 'gamma': 0.0012523100288033724}. Best is trial 118 with value: 0.918829468337061.\n",
            "[I 2025-03-07 06:01:53,904] Trial 131 finished with value: 0.9172357585046107 and parameters: {'n_estimators': 1000, 'max_depth': 12, 'learning_rate': 0.05035530594180518, 'subsample': 0.9739406743397898, 'colsample_bytree': 0.5995424471723161, 'reg_lambda': 0.003065040060980928, 'reg_alpha': 0.007045801258953122, 'gamma': 0.0013247077519030661}. Best is trial 118 with value: 0.918829468337061.\n",
            "[I 2025-03-07 06:02:26,706] Trial 132 finished with value: 0.9178184225729531 and parameters: {'n_estimators': 1000, 'max_depth': 12, 'learning_rate': 0.05324655193832787, 'subsample': 0.9789700407496867, 'colsample_bytree': 0.5258063424126224, 'reg_lambda': 0.002018391313371703, 'reg_alpha': 0.003555050631150354, 'gamma': 0.0016868079153081967}. Best is trial 118 with value: 0.918829468337061.\n",
            "[I 2025-03-07 06:03:01,623] Trial 133 finished with value: 0.9174798580717951 and parameters: {'n_estimators': 1000, 'max_depth': 13, 'learning_rate': 0.048364418006691494, 'subsample': 0.9826334389989757, 'colsample_bytree': 0.5019521123999828, 'reg_lambda': 0.002164763866172503, 'reg_alpha': 0.0034163456510016605, 'gamma': 0.001732606675520021}. Best is trial 118 with value: 0.918829468337061.\n",
            "[I 2025-03-07 06:03:34,998] Trial 134 finished with value: 0.9183568163230132 and parameters: {'n_estimators': 1000, 'max_depth': 12, 'learning_rate': 0.04912029726388264, 'subsample': 0.9793727404947152, 'colsample_bytree': 0.5232009903423036, 'reg_lambda': 0.002156251032139618, 'reg_alpha': 0.0035458341439191174, 'gamma': 0.0016452665846137457}. Best is trial 118 with value: 0.918829468337061.\n",
            "[I 2025-03-07 06:04:08,795] Trial 135 finished with value: 0.9176557328235948 and parameters: {'n_estimators': 1000, 'max_depth': 12, 'learning_rate': 0.04803092233393043, 'subsample': 0.9824687910049026, 'colsample_bytree': 0.501540855729269, 'reg_lambda': 0.002084772081510992, 'reg_alpha': 0.0033138192359462725, 'gamma': 0.0016823480698240569}. Best is trial 118 with value: 0.918829468337061.\n",
            "[I 2025-03-07 06:04:42,503] Trial 136 finished with value: 0.9179743202160792 and parameters: {'n_estimators': 1000, 'max_depth': 12, 'learning_rate': 0.048209888350691794, 'subsample': 0.9809915978452046, 'colsample_bytree': 0.5061659437921606, 'reg_lambda': 0.0019685111231501767, 'reg_alpha': 0.003380379819034053, 'gamma': 0.0017281079010303686}. Best is trial 118 with value: 0.918829468337061.\n",
            "[I 2025-03-07 06:05:17,481] Trial 137 finished with value: 0.9181044038687141 and parameters: {'n_estimators': 1000, 'max_depth': 13, 'learning_rate': 0.0484772773098723, 'subsample': 0.9736496782776478, 'colsample_bytree': 0.5006158019930858, 'reg_lambda': 0.00218245458664773, 'reg_alpha': 0.003398095989919729, 'gamma': 0.0016123778414751388}. Best is trial 118 with value: 0.918829468337061.\n",
            "[I 2025-03-07 06:05:52,289] Trial 138 finished with value: 0.9178794763821685 and parameters: {'n_estimators': 1000, 'max_depth': 13, 'learning_rate': 0.04795625501336735, 'subsample': 0.9765557699031511, 'colsample_bytree': 0.5051490873850776, 'reg_lambda': 0.0041125699172722, 'reg_alpha': 0.003448887937988923, 'gamma': 0.0017284565747527547}. Best is trial 118 with value: 0.918829468337061.\n",
            "[I 2025-03-07 06:06:26,306] Trial 139 finished with value: 0.9165114976743902 and parameters: {'n_estimators': 1000, 'max_depth': 13, 'learning_rate': 0.05208563523928858, 'subsample': 0.9756500501098253, 'colsample_bytree': 0.5297663653096081, 'reg_lambda': 0.002852555232091068, 'reg_alpha': 0.0026387845136487628, 'gamma': 0.0020927737288406766}. Best is trial 118 with value: 0.918829468337061.\n",
            "[I 2025-03-07 06:07:02,946] Trial 140 finished with value: 0.9183856858758916 and parameters: {'n_estimators': 1000, 'max_depth': 13, 'learning_rate': 0.04144103798942505, 'subsample': 0.977459760896561, 'colsample_bytree': 0.5272401458986637, 'reg_lambda': 0.003992462253266561, 'reg_alpha': 0.003883658667944313, 'gamma': 0.0017291936987818926}. Best is trial 118 with value: 0.918829468337061.\n",
            "[I 2025-03-07 06:07:38,479] Trial 141 finished with value: 0.9176542510499404 and parameters: {'n_estimators': 1000, 'max_depth': 13, 'learning_rate': 0.04581512057993288, 'subsample': 0.9782923735929305, 'colsample_bytree': 0.520237961245951, 'reg_lambda': 0.0038096905738597728, 'reg_alpha': 0.003436797470082148, 'gamma': 0.001679198843270116}. Best is trial 118 with value: 0.918829468337061.\n",
            "[I 2025-03-07 06:08:15,073] Trial 142 finished with value: 0.9177457367575841 and parameters: {'n_estimators': 1000, 'max_depth': 13, 'learning_rate': 0.041756916339493, 'subsample': 0.9732093365117698, 'colsample_bytree': 0.5358465157461333, 'reg_lambda': 0.0018829130096842165, 'reg_alpha': 0.002883154514388475, 'gamma': 0.002330022277954745}. Best is trial 118 with value: 0.918829468337061.\n",
            "[I 2025-03-07 06:08:51,582] Trial 143 finished with value: 0.9182832925505604 and parameters: {'n_estimators': 1000, 'max_depth': 13, 'learning_rate': 0.042093591028088205, 'subsample': 0.9719477078177189, 'colsample_bytree': 0.5359161456035034, 'reg_lambda': 0.003930791640602538, 'reg_alpha': 0.002765304404366161, 'gamma': 0.002276787123801805}. Best is trial 118 with value: 0.918829468337061.\n",
            "[I 2025-03-07 06:09:28,502] Trial 144 finished with value: 0.9176367409790572 and parameters: {'n_estimators': 1000, 'max_depth': 13, 'learning_rate': 0.04178499103879366, 'subsample': 0.9996094313884494, 'colsample_bytree': 0.5426515227941795, 'reg_lambda': 0.003925311297301544, 'reg_alpha': 0.002941684995813565, 'gamma': 0.00234404038617329}. Best is trial 118 with value: 0.918829468337061.\n",
            "[I 2025-03-07 06:10:05,334] Trial 145 finished with value: 0.9153263763824941 and parameters: {'n_estimators': 1000, 'max_depth': 13, 'learning_rate': 0.04026750625273608, 'subsample': 0.6587211108776049, 'colsample_bytree': 0.5131201474612508, 'reg_lambda': 0.005342783722256383, 'reg_alpha': 0.0018261943208996371, 'gamma': 0.0019296681977094613}. Best is trial 118 with value: 0.918829468337061.\n",
            "[I 2025-03-07 06:10:46,401] Trial 146 finished with value: 0.9163364910608672 and parameters: {'n_estimators': 1000, 'max_depth': 14, 'learning_rate': 0.04462373892395213, 'subsample': 0.970354428036071, 'colsample_bytree': 0.5327082020959846, 'reg_lambda': 0.002697855729292267, 'reg_alpha': 0.0025420402586720453, 'gamma': 0.002359345698579423}. Best is trial 118 with value: 0.918829468337061.\n",
            "[I 2025-03-07 06:11:19,772] Trial 147 finished with value: 0.9163869298616791 and parameters: {'n_estimators': 1000, 'max_depth': 13, 'learning_rate': 0.05422306781271662, 'subsample': 0.9888142645881202, 'colsample_bytree': 0.5197469847917303, 'reg_lambda': 0.006041920558915096, 'reg_alpha': 0.002826038268379042, 'gamma': 0.0010029907264736228}. Best is trial 118 with value: 0.918829468337061.\n",
            "[I 2025-03-07 06:11:57,133] Trial 148 finished with value: 0.9186542097098215 and parameters: {'n_estimators': 1000, 'max_depth': 13, 'learning_rate': 0.03964269738971892, 'subsample': 0.9695105776807144, 'colsample_bytree': 0.5553986167385072, 'reg_lambda': 0.004391013165051485, 'reg_alpha': 0.003794240698307894, 'gamma': 0.0015461991951724562}. Best is trial 118 with value: 0.918829468337061.\n",
            "[I 2025-03-07 06:12:37,787] Trial 149 finished with value: 0.9178553218716088 and parameters: {'n_estimators': 1000, 'max_depth': 14, 'learning_rate': 0.03861017970175311, 'subsample': 0.965059079928694, 'colsample_bytree': 0.5544705402441394, 'reg_lambda': 0.00966622196097862, 'reg_alpha': 0.0038548721053773796, 'gamma': 0.0015778581512878099}. Best is trial 118 with value: 0.918829468337061.\n"
          ]
        },
        {
          "output_type": "stream",
          "name": "stdout",
          "text": [
            "✅ Best XGBoost Model Saved: /content/drive/MyDrive/data/models/xgboost_optimized/xgboost_optimized.json\n",
            "✅ Results Saved: /content/drive/MyDrive/data/models/xgboost_optimized/xgboost_optimized_results.json\n",
            "\n",
            "📊 **Optimized XGBoost Performance**\n",
            "|    | Metric    |   XGBoost Optimized |\n",
            "|---:|:----------|--------------------:|\n",
            "|  0 | Precision |            0.923016 |\n",
            "|  1 | Recall    |            0.923997 |\n",
            "|  2 | F1-Score  |            0.923351 |\n",
            "|  3 | ROC-AUC   |            0.975969 |\n"
          ]
        },
        {
          "output_type": "display_data",
          "data": {
            "text/plain": [
              "<IPython.core.display.Javascript object>"
            ],
            "application/javascript": [
              "\n",
              "    async function download(id, filename, size) {\n",
              "      if (!google.colab.kernel.accessAllowed) {\n",
              "        return;\n",
              "      }\n",
              "      const div = document.createElement('div');\n",
              "      const label = document.createElement('label');\n",
              "      label.textContent = `Downloading \"${filename}\": `;\n",
              "      div.appendChild(label);\n",
              "      const progress = document.createElement('progress');\n",
              "      progress.max = size;\n",
              "      div.appendChild(progress);\n",
              "      document.body.appendChild(div);\n",
              "\n",
              "      const buffers = [];\n",
              "      let downloaded = 0;\n",
              "\n",
              "      const channel = await google.colab.kernel.comms.open(id);\n",
              "      // Send a message to notify the kernel that we're ready.\n",
              "      channel.send({})\n",
              "\n",
              "      for await (const message of channel.messages) {\n",
              "        // Send a message to notify the kernel that we're ready.\n",
              "        channel.send({})\n",
              "        if (message.buffers) {\n",
              "          for (const buffer of message.buffers) {\n",
              "            buffers.push(buffer);\n",
              "            downloaded += buffer.byteLength;\n",
              "            progress.value = downloaded;\n",
              "          }\n",
              "        }\n",
              "      }\n",
              "      const blob = new Blob(buffers, {type: 'application/binary'});\n",
              "      const a = document.createElement('a');\n",
              "      a.href = window.URL.createObjectURL(blob);\n",
              "      a.download = filename;\n",
              "      div.appendChild(a);\n",
              "      a.click();\n",
              "      div.remove();\n",
              "    }\n",
              "  "
            ]
          },
          "metadata": {}
        },
        {
          "output_type": "display_data",
          "data": {
            "text/plain": [
              "<IPython.core.display.Javascript object>"
            ],
            "application/javascript": [
              "download(\"download_7dd18886-4551-4ea2-8442-23d1ebff4c07\", \"xgboost_optimized.json\", 8338846)"
            ]
          },
          "metadata": {}
        },
        {
          "output_type": "display_data",
          "data": {
            "text/plain": [
              "<IPython.core.display.Javascript object>"
            ],
            "application/javascript": [
              "\n",
              "    async function download(id, filename, size) {\n",
              "      if (!google.colab.kernel.accessAllowed) {\n",
              "        return;\n",
              "      }\n",
              "      const div = document.createElement('div');\n",
              "      const label = document.createElement('label');\n",
              "      label.textContent = `Downloading \"${filename}\": `;\n",
              "      div.appendChild(label);\n",
              "      const progress = document.createElement('progress');\n",
              "      progress.max = size;\n",
              "      div.appendChild(progress);\n",
              "      document.body.appendChild(div);\n",
              "\n",
              "      const buffers = [];\n",
              "      let downloaded = 0;\n",
              "\n",
              "      const channel = await google.colab.kernel.comms.open(id);\n",
              "      // Send a message to notify the kernel that we're ready.\n",
              "      channel.send({})\n",
              "\n",
              "      for await (const message of channel.messages) {\n",
              "        // Send a message to notify the kernel that we're ready.\n",
              "        channel.send({})\n",
              "        if (message.buffers) {\n",
              "          for (const buffer of message.buffers) {\n",
              "            buffers.push(buffer);\n",
              "            downloaded += buffer.byteLength;\n",
              "            progress.value = downloaded;\n",
              "          }\n",
              "        }\n",
              "      }\n",
              "      const blob = new Blob(buffers, {type: 'application/binary'});\n",
              "      const a = document.createElement('a');\n",
              "      a.href = window.URL.createObjectURL(blob);\n",
              "      a.download = filename;\n",
              "      div.appendChild(a);\n",
              "      a.click();\n",
              "      div.remove();\n",
              "    }\n",
              "  "
            ]
          },
          "metadata": {}
        },
        {
          "output_type": "display_data",
          "data": {
            "text/plain": [
              "<IPython.core.display.Javascript object>"
            ],
            "application/javascript": [
              "download(\"download_9f769438-8168-4003-b1cd-41239328c6fb\", \"xgboost_optimized_results.json\", 522)"
            ]
          },
          "metadata": {}
        },
        {
          "output_type": "display_data",
          "data": {
            "text/plain": [
              "<IPython.core.display.Javascript object>"
            ],
            "application/javascript": [
              "\n",
              "    async function download(id, filename, size) {\n",
              "      if (!google.colab.kernel.accessAllowed) {\n",
              "        return;\n",
              "      }\n",
              "      const div = document.createElement('div');\n",
              "      const label = document.createElement('label');\n",
              "      label.textContent = `Downloading \"${filename}\": `;\n",
              "      div.appendChild(label);\n",
              "      const progress = document.createElement('progress');\n",
              "      progress.max = size;\n",
              "      div.appendChild(progress);\n",
              "      document.body.appendChild(div);\n",
              "\n",
              "      const buffers = [];\n",
              "      let downloaded = 0;\n",
              "\n",
              "      const channel = await google.colab.kernel.comms.open(id);\n",
              "      // Send a message to notify the kernel that we're ready.\n",
              "      channel.send({})\n",
              "\n",
              "      for await (const message of channel.messages) {\n",
              "        // Send a message to notify the kernel that we're ready.\n",
              "        channel.send({})\n",
              "        if (message.buffers) {\n",
              "          for (const buffer of message.buffers) {\n",
              "            buffers.push(buffer);\n",
              "            downloaded += buffer.byteLength;\n",
              "            progress.value = downloaded;\n",
              "          }\n",
              "        }\n",
              "      }\n",
              "      const blob = new Blob(buffers, {type: 'application/binary'});\n",
              "      const a = document.createElement('a');\n",
              "      a.href = window.URL.createObjectURL(blob);\n",
              "      a.download = filename;\n",
              "      div.appendChild(a);\n",
              "      a.click();\n",
              "      div.remove();\n",
              "    }\n",
              "  "
            ]
          },
          "metadata": {}
        },
        {
          "output_type": "display_data",
          "data": {
            "text/plain": [
              "<IPython.core.display.Javascript object>"
            ],
            "application/javascript": [
              "download(\"download_7812199b-2dbd-472b-a971-daac7f15ab65\", \"xgboost_scaler.pkl\", 18759)"
            ]
          },
          "metadata": {}
        }
      ]
    }
  ]
}